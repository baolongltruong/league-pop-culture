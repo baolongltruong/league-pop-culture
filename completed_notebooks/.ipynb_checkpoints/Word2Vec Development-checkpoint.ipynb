{
 "cells": [
  {
   "cell_type": "markdown",
   "id": "1a4e9590",
   "metadata": {
    "tags": []
   },
   "source": [
    "# Experimentation with one-fifth of our dataset\n",
    "## (155k entries)"
   ]
  },
  {
   "cell_type": "markdown",
   "id": "cd48e43c",
   "metadata": {
    "tags": []
   },
   "source": [
    "## SETUP"
   ]
  },
  {
   "cell_type": "code",
   "execution_count": 1,
   "id": "04b82b98",
   "metadata": {},
   "outputs": [],
   "source": [
    "import gensim\n",
    "import pandas as pd\n",
    "import os"
   ]
  },
  {
   "cell_type": "code",
   "execution_count": 3,
   "id": "95104b1a",
   "metadata": {},
   "outputs": [
    {
     "name": "stdout",
     "output_type": "stream",
     "text": [
      " Volume in drive C is Windows\n",
      " Volume Serial Number is 5029-78BD\n",
      "\n",
      " Directory of C:\\Users\\aKost\\Desktop\\2021-2022\\SPRING 2022\\capstone\n",
      "\n",
      "04/06/2022  03:39 PM    <DIR>          .\n",
      "04/06/2022  03:39 PM    <DIR>          ..\n",
      "04/06/2022  03:39 PM    <DIR>          .ipynb_checkpoints\n",
      "04/05/2022  05:18 AM        33,808,934 comments_dataframe_2.csv\n",
      "04/04/2022  09:40 AM        34,204,493 comments_dataframe_4.csv\n",
      "04/04/2022  05:38 PM        36,042,101 comments_dataframe_5.csv\n",
      "04/02/2022  07:56 PM        60,328,596 june_to_march_postings.csv\n",
      "04/01/2022  02:15 PM            33,442 Submission Gathering.ipynb\n",
      "04/05/2022  05:19 AM            21,871 Subreddit Comment Gathering.ipynb\n",
      "04/01/2022  04:09 PM            35,392 Subreddit Comment Gathering.pdf\n",
      "04/06/2022  03:38 PM                72 Word2Vec Development.ipynb\n",
      "               8 File(s)    164,474,901 bytes\n",
      "               3 Dir(s)  17,820,962,816 bytes free\n"
     ]
    }
   ],
   "source": [
    "!dir"
   ]
  },
  {
   "cell_type": "code",
   "execution_count": 6,
   "id": "887604c0",
   "metadata": {},
   "outputs": [],
   "source": [
    "c_df_1 = pd.read_csv('comments_dataframe_2.csv', index_col=[0])"
   ]
  },
  {
   "cell_type": "code",
   "execution_count": 7,
   "id": "9e75ee17",
   "metadata": {},
   "outputs": [
    {
     "data": {
      "text/html": [
       "<div>\n",
       "<style scoped>\n",
       "    .dataframe tbody tr th:only-of-type {\n",
       "        vertical-align: middle;\n",
       "    }\n",
       "\n",
       "    .dataframe tbody tr th {\n",
       "        vertical-align: top;\n",
       "    }\n",
       "\n",
       "    .dataframe thead th {\n",
       "        text-align: right;\n",
       "    }\n",
       "</style>\n",
       "<table border=\"1\" class=\"dataframe\">\n",
       "  <thead>\n",
       "    <tr style=\"text-align: right;\">\n",
       "      <th></th>\n",
       "      <th>submission_id</th>\n",
       "      <th>comment_id</th>\n",
       "      <th>comment_text</th>\n",
       "    </tr>\n",
       "  </thead>\n",
       "  <tbody>\n",
       "    <tr>\n",
       "      <th>0</th>\n",
       "      <td>othlae</td>\n",
       "      <td>h6vbymj</td>\n",
       "      <td>This submission has been removed because [text...</td>\n",
       "    </tr>\n",
       "    <tr>\n",
       "      <th>1</th>\n",
       "      <td>othk19</td>\n",
       "      <td>h6vc0jp</td>\n",
       "      <td>This submission has been removed because [text...</td>\n",
       "    </tr>\n",
       "    <tr>\n",
       "      <th>2</th>\n",
       "      <td>othjhx</td>\n",
       "      <td>h6vy7kb</td>\n",
       "      <td>You realize theyre making an MMO right? That r...</td>\n",
       "    </tr>\n",
       "    <tr>\n",
       "      <th>3</th>\n",
       "      <td>othjhx</td>\n",
       "      <td>h6vc1f9</td>\n",
       "      <td>I think the problem with this event is that it...</td>\n",
       "    </tr>\n",
       "    <tr>\n",
       "      <th>4</th>\n",
       "      <td>othizk</td>\n",
       "      <td>h6vbhii</td>\n",
       "      <td>Your post has been removed automatically becau...</td>\n",
       "    </tr>\n",
       "    <tr>\n",
       "      <th>...</th>\n",
       "      <td>...</td>\n",
       "      <td>...</td>\n",
       "      <td>...</td>\n",
       "    </tr>\n",
       "    <tr>\n",
       "      <th>162468</th>\n",
       "      <td>pu4z4h</td>\n",
       "      <td>he0nyd8</td>\n",
       "      <td>Hit escape and then exit the menu and it shoul...</td>\n",
       "    </tr>\n",
       "    <tr>\n",
       "      <th>162469</th>\n",
       "      <td>pu4z4h</td>\n",
       "      <td>he0jcmv</td>\n",
       "      <td>Had this happen  to me today</td>\n",
       "    </tr>\n",
       "    <tr>\n",
       "      <th>162470</th>\n",
       "      <td>pu4z4h</td>\n",
       "      <td>he0ka5j</td>\n",
       "      <td>Yess me too</td>\n",
       "    </tr>\n",
       "    <tr>\n",
       "      <th>162471</th>\n",
       "      <td>pu4z4h</td>\n",
       "      <td>he0qwgx</td>\n",
       "      <td>Yup happened to me like 5-6 times this evening...</td>\n",
       "    </tr>\n",
       "    <tr>\n",
       "      <th>162472</th>\n",
       "      <td>pu4z4h</td>\n",
       "      <td>he0ruk4</td>\n",
       "      <td>My friend also had this issue when we were pla...</td>\n",
       "    </tr>\n",
       "  </tbody>\n",
       "</table>\n",
       "<p>162473 rows × 3 columns</p>\n",
       "</div>"
      ],
      "text/plain": [
       "       submission_id comment_id  \\\n",
       "0             othlae    h6vbymj   \n",
       "1             othk19    h6vc0jp   \n",
       "2             othjhx    h6vy7kb   \n",
       "3             othjhx    h6vc1f9   \n",
       "4             othizk    h6vbhii   \n",
       "...              ...        ...   \n",
       "162468        pu4z4h    he0nyd8   \n",
       "162469        pu4z4h    he0jcmv   \n",
       "162470        pu4z4h    he0ka5j   \n",
       "162471        pu4z4h    he0qwgx   \n",
       "162472        pu4z4h    he0ruk4   \n",
       "\n",
       "                                             comment_text  \n",
       "0       This submission has been removed because [text...  \n",
       "1       This submission has been removed because [text...  \n",
       "2       You realize theyre making an MMO right? That r...  \n",
       "3       I think the problem with this event is that it...  \n",
       "4       Your post has been removed automatically becau...  \n",
       "...                                                   ...  \n",
       "162468  Hit escape and then exit the menu and it shoul...  \n",
       "162469                       Had this happen  to me today  \n",
       "162470                                        Yess me too  \n",
       "162471  Yup happened to me like 5-6 times this evening...  \n",
       "162472  My friend also had this issue when we were pla...  \n",
       "\n",
       "[162473 rows x 3 columns]"
      ]
     },
     "execution_count": 7,
     "metadata": {},
     "output_type": "execute_result"
    }
   ],
   "source": [
    "c_df_1"
   ]
  },
  {
   "cell_type": "code",
   "execution_count": 8,
   "id": "6f0fbce2",
   "metadata": {},
   "outputs": [
    {
     "data": {
      "text/plain": [
       "(162473, 3)"
      ]
     },
     "execution_count": 8,
     "metadata": {},
     "output_type": "execute_result"
    }
   ],
   "source": [
    "c_df_1.shape"
   ]
  },
  {
   "cell_type": "markdown",
   "id": "1eb8759a",
   "metadata": {
    "tags": []
   },
   "source": [
    "## Cleaning"
   ]
  },
  {
   "cell_type": "code",
   "execution_count": 14,
   "id": "ce595095",
   "metadata": {},
   "outputs": [],
   "source": [
    "df = c_df_1[c_df_1[\"comment_text\"].str.contains(\"This submission has been removed because\")==False]"
   ]
  },
  {
   "cell_type": "code",
   "execution_count": 16,
   "id": "ea0e6def",
   "metadata": {},
   "outputs": [],
   "source": [
    "remove = \"Your post has been removed automatically\"\n",
    "df = df[df[\"comment_text\"].str.contains(remove)==False]"
   ]
  },
  {
   "cell_type": "code",
   "execution_count": 17,
   "id": "d0809542",
   "metadata": {},
   "outputs": [
    {
     "data": {
      "text/html": [
       "<div>\n",
       "<style scoped>\n",
       "    .dataframe tbody tr th:only-of-type {\n",
       "        vertical-align: middle;\n",
       "    }\n",
       "\n",
       "    .dataframe tbody tr th {\n",
       "        vertical-align: top;\n",
       "    }\n",
       "\n",
       "    .dataframe thead th {\n",
       "        text-align: right;\n",
       "    }\n",
       "</style>\n",
       "<table border=\"1\" class=\"dataframe\">\n",
       "  <thead>\n",
       "    <tr style=\"text-align: right;\">\n",
       "      <th></th>\n",
       "      <th>submission_id</th>\n",
       "      <th>comment_id</th>\n",
       "      <th>comment_text</th>\n",
       "    </tr>\n",
       "  </thead>\n",
       "  <tbody>\n",
       "    <tr>\n",
       "      <th>2</th>\n",
       "      <td>othjhx</td>\n",
       "      <td>h6vy7kb</td>\n",
       "      <td>You realize theyre making an MMO right? That r...</td>\n",
       "    </tr>\n",
       "    <tr>\n",
       "      <th>3</th>\n",
       "      <td>othjhx</td>\n",
       "      <td>h6vc1f9</td>\n",
       "      <td>I think the problem with this event is that it...</td>\n",
       "    </tr>\n",
       "    <tr>\n",
       "      <th>5</th>\n",
       "      <td>othidx</td>\n",
       "      <td>h6vburh</td>\n",
       "      <td>This is simultaneously surprising and not surp...</td>\n",
       "    </tr>\n",
       "    <tr>\n",
       "      <th>6</th>\n",
       "      <td>othidx</td>\n",
       "      <td>h6vbuy6</td>\n",
       "      <td>Voyboy called him out on twitter actually :o \\...</td>\n",
       "    </tr>\n",
       "    <tr>\n",
       "      <th>7</th>\n",
       "      <td>othidx</td>\n",
       "      <td>h6vct3w</td>\n",
       "      <td>Awkward.</td>\n",
       "    </tr>\n",
       "    <tr>\n",
       "      <th>...</th>\n",
       "      <td>...</td>\n",
       "      <td>...</td>\n",
       "      <td>...</td>\n",
       "    </tr>\n",
       "    <tr>\n",
       "      <th>162468</th>\n",
       "      <td>pu4z4h</td>\n",
       "      <td>he0nyd8</td>\n",
       "      <td>Hit escape and then exit the menu and it shoul...</td>\n",
       "    </tr>\n",
       "    <tr>\n",
       "      <th>162469</th>\n",
       "      <td>pu4z4h</td>\n",
       "      <td>he0jcmv</td>\n",
       "      <td>Had this happen  to me today</td>\n",
       "    </tr>\n",
       "    <tr>\n",
       "      <th>162470</th>\n",
       "      <td>pu4z4h</td>\n",
       "      <td>he0ka5j</td>\n",
       "      <td>Yess me too</td>\n",
       "    </tr>\n",
       "    <tr>\n",
       "      <th>162471</th>\n",
       "      <td>pu4z4h</td>\n",
       "      <td>he0qwgx</td>\n",
       "      <td>Yup happened to me like 5-6 times this evening...</td>\n",
       "    </tr>\n",
       "    <tr>\n",
       "      <th>162472</th>\n",
       "      <td>pu4z4h</td>\n",
       "      <td>he0ruk4</td>\n",
       "      <td>My friend also had this issue when we were pla...</td>\n",
       "    </tr>\n",
       "  </tbody>\n",
       "</table>\n",
       "<p>156550 rows × 3 columns</p>\n",
       "</div>"
      ],
      "text/plain": [
       "       submission_id comment_id  \\\n",
       "2             othjhx    h6vy7kb   \n",
       "3             othjhx    h6vc1f9   \n",
       "5             othidx    h6vburh   \n",
       "6             othidx    h6vbuy6   \n",
       "7             othidx    h6vct3w   \n",
       "...              ...        ...   \n",
       "162468        pu4z4h    he0nyd8   \n",
       "162469        pu4z4h    he0jcmv   \n",
       "162470        pu4z4h    he0ka5j   \n",
       "162471        pu4z4h    he0qwgx   \n",
       "162472        pu4z4h    he0ruk4   \n",
       "\n",
       "                                             comment_text  \n",
       "2       You realize theyre making an MMO right? That r...  \n",
       "3       I think the problem with this event is that it...  \n",
       "5       This is simultaneously surprising and not surp...  \n",
       "6       Voyboy called him out on twitter actually :o \\...  \n",
       "7                                                Awkward.  \n",
       "...                                                   ...  \n",
       "162468  Hit escape and then exit the menu and it shoul...  \n",
       "162469                       Had this happen  to me today  \n",
       "162470                                        Yess me too  \n",
       "162471  Yup happened to me like 5-6 times this evening...  \n",
       "162472  My friend also had this issue when we were pla...  \n",
       "\n",
       "[156550 rows x 3 columns]"
      ]
     },
     "execution_count": 17,
     "metadata": {},
     "output_type": "execute_result"
    }
   ],
   "source": [
    "df"
   ]
  },
  {
   "cell_type": "code",
   "execution_count": 24,
   "id": "a72e8e14",
   "metadata": {},
   "outputs": [],
   "source": [
    "df = df.reset_index()"
   ]
  },
  {
   "cell_type": "code",
   "execution_count": 25,
   "id": "920ce652",
   "metadata": {},
   "outputs": [],
   "source": [
    "first_comment = df.comment_text[0]"
   ]
  },
  {
   "cell_type": "markdown",
   "id": "c9453e21",
   "metadata": {
    "tags": []
   },
   "source": [
    "## Preprocessing"
   ]
  },
  {
   "cell_type": "code",
   "execution_count": 26,
   "id": "de15e6c7",
   "metadata": {},
   "outputs": [
    {
     "data": {
      "text/plain": [
       "['you',\n",
       " 'realize',\n",
       " 'theyre',\n",
       " 'making',\n",
       " 'an',\n",
       " 'mmo',\n",
       " 'right',\n",
       " 'that',\n",
       " 'requires',\n",
       " 'lore',\n",
       " 'so',\n",
       " 'does',\n",
       " 'arcane',\n",
       " 'we',\n",
       " 'dont',\n",
       " 'want',\n",
       " 'them',\n",
       " 'to',\n",
       " 'stop',\n",
       " 'doing',\n",
       " 'lore',\n",
       " 'we',\n",
       " 'want',\n",
       " 'them',\n",
       " 'to',\n",
       " 'do',\n",
       " 'it',\n",
       " 'right',\n",
       " 'and',\n",
       " 'we',\n",
       " 'know',\n",
       " 'they',\n",
       " 'can',\n",
       " 'because',\n",
       " 'most',\n",
       " 'stuff',\n",
       " 'on',\n",
       " 'universe',\n",
       " 'is',\n",
       " 'at',\n",
       " 'the',\n",
       " 'least',\n",
       " 'decent']"
      ]
     },
     "execution_count": 26,
     "metadata": {},
     "output_type": "execute_result"
    }
   ],
   "source": [
    "gensim.utils.simple_preprocess(first_comment)"
   ]
  },
  {
   "cell_type": "code",
   "execution_count": 27,
   "id": "605e7227",
   "metadata": {},
   "outputs": [],
   "source": [
    "text_1 = df.comment_text.apply(gensim.utils.simple_preprocess)"
   ]
  },
  {
   "cell_type": "code",
   "execution_count": 29,
   "id": "3c8166c6",
   "metadata": {},
   "outputs": [
    {
     "data": {
      "text/plain": [
       "0         [you, realize, theyre, making, an, mmo, right,...\n",
       "1         [think, the, problem, with, this, event, is, t...\n",
       "2         [this, is, simultaneously, surprising, and, no...\n",
       "3         [voyboy, called, him, out, on, twitter, actual...\n",
       "4                                                 [awkward]\n",
       "                                ...                        \n",
       "156545    [hit, escape, and, then, exit, the, menu, and,...\n",
       "156546                   [had, this, happen, to, me, today]\n",
       "156547                                      [yess, me, too]\n",
       "156548    [yup, happened, to, me, like, times, this, eve...\n",
       "156549    [my, friend, also, had, this, issue, when, we,...\n",
       "Name: comment_text, Length: 156550, dtype: object"
      ]
     },
     "execution_count": 29,
     "metadata": {},
     "output_type": "execute_result"
    }
   ],
   "source": [
    "text_1"
   ]
  },
  {
   "cell_type": "markdown",
   "id": "92f67b91",
   "metadata": {
    "tags": []
   },
   "source": [
    "## Building the Word2Vec Model"
   ]
  },
  {
   "cell_type": "markdown",
   "id": "19dfe797",
   "metadata": {},
   "source": [
    "We start by building a Word2Vec model that featurizes words by a window of 10."
   ]
  },
  {
   "cell_type": "code",
   "execution_count": 31,
   "id": "d8def0fc",
   "metadata": {},
   "outputs": [],
   "source": [
    "model = gensim.models.Word2Vec(\n",
    "    window=10,\n",
    "    min_count=2,\n",
    "    workers=4\n",
    ")"
   ]
  },
  {
   "cell_type": "code",
   "execution_count": 32,
   "id": "4351c875",
   "metadata": {},
   "outputs": [],
   "source": [
    "model.build_vocab(text_1, progress_per=1000)"
   ]
  },
  {
   "cell_type": "code",
   "execution_count": 33,
   "id": "1c1085b8",
   "metadata": {},
   "outputs": [
    {
     "data": {
      "text/plain": [
       "5"
      ]
     },
     "execution_count": 33,
     "metadata": {},
     "output_type": "execute_result"
    }
   ],
   "source": [
    "model.epochs"
   ]
  },
  {
   "cell_type": "code",
   "execution_count": 34,
   "id": "b45eacb6",
   "metadata": {},
   "outputs": [
    {
     "data": {
      "text/plain": [
       "156550"
      ]
     },
     "execution_count": 34,
     "metadata": {},
     "output_type": "execute_result"
    }
   ],
   "source": [
    "model.corpus_count"
   ]
  },
  {
   "cell_type": "code",
   "execution_count": 35,
   "id": "2c9fc195",
   "metadata": {},
   "outputs": [
    {
     "data": {
      "text/plain": [
       "(17861963, 22431455)"
      ]
     },
     "execution_count": 35,
     "metadata": {},
     "output_type": "execute_result"
    }
   ],
   "source": [
    "model.train(text_1, total_examples=model.corpus_count, epochs=model.epochs)"
   ]
  },
  {
   "cell_type": "code",
   "execution_count": 36,
   "id": "f3443f46",
   "metadata": {},
   "outputs": [],
   "source": [
    "model.save(\"./word2vec-minibatch-1.model\")"
   ]
  },
  {
   "cell_type": "markdown",
   "id": "723e75f6",
   "metadata": {},
   "source": [
    "Some examples of how the model featurized"
   ]
  },
  {
   "cell_type": "code",
   "execution_count": 38,
   "id": "84a6bf3d",
   "metadata": {},
   "outputs": [
    {
     "data": {
      "text/plain": [
       "[('bad', 0.766593337059021),\n",
       " ('decent', 0.7135423421859741),\n",
       " ('great', 0.7107148766517639),\n",
       " ('solid', 0.7048998475074768),\n",
       " ('strong', 0.6690939664840698),\n",
       " ('terrible', 0.6552281975746155),\n",
       " ('hard', 0.5731886029243469),\n",
       " ('difficult', 0.5670546293258667),\n",
       " ('weak', 0.5510604977607727),\n",
       " ('tough', 0.5500995516777039)]"
      ]
     },
     "execution_count": 38,
     "metadata": {},
     "output_type": "execute_result"
    }
   ],
   "source": [
    "model.wv.most_similar(\"good\")"
   ]
  },
  {
   "cell_type": "code",
   "execution_count": 39,
   "id": "821521f2",
   "metadata": {},
   "outputs": [
    {
     "data": {
      "text/plain": [
       "0.12185803"
      ]
     },
     "execution_count": 39,
     "metadata": {},
     "output_type": "execute_result"
    }
   ],
   "source": [
    "model.wv.similarity(w1=\"ahri\", w2=\"good\")"
   ]
  },
  {
   "cell_type": "code",
   "execution_count": 40,
   "id": "752189ed",
   "metadata": {},
   "outputs": [
    {
     "data": {
      "text/plain": [
       "0.71071494"
      ]
     },
     "execution_count": 40,
     "metadata": {},
     "output_type": "execute_result"
    }
   ],
   "source": [
    "model.wv.similarity(w1=\"great\", w2=\"good\")"
   ]
  },
  {
   "cell_type": "code",
   "execution_count": 41,
   "id": "fc6ac459",
   "metadata": {},
   "outputs": [
    {
     "data": {
      "text/plain": [
       "0.2879062"
      ]
     },
     "execution_count": 41,
     "metadata": {},
     "output_type": "execute_result"
    }
   ],
   "source": [
    "model.wv.similarity(w1=\"terrible\", w2=\"awesome\")"
   ]
  },
  {
   "cell_type": "code",
   "execution_count": 43,
   "id": "7af363ae",
   "metadata": {},
   "outputs": [
    {
     "data": {
      "text/plain": [
       "0.4222573"
      ]
     },
     "execution_count": 43,
     "metadata": {},
     "output_type": "execute_result"
    }
   ],
   "source": [
    "model.wv.similarity(w1=\"badass\", w2=\"jinx\")"
   ]
  },
  {
   "cell_type": "code",
   "execution_count": 44,
   "id": "0647527b",
   "metadata": {},
   "outputs": [
    {
     "data": {
      "text/plain": [
       "0.13311929"
      ]
     },
     "execution_count": 44,
     "metadata": {},
     "output_type": "execute_result"
    }
   ],
   "source": [
    "model.wv.similarity(w1=\"badass\", w2=\"teemo\")"
   ]
  },
  {
   "cell_type": "markdown",
   "id": "c16ba315",
   "metadata": {},
   "source": [
    "Casting the data to two dimensions for visualization purposes using t-SNE."
   ]
  },
  {
   "cell_type": "code",
   "execution_count": 52,
   "id": "9edf39ed",
   "metadata": {},
   "outputs": [],
   "source": [
    "vocab = list(model.wv.key_to_index)\n",
    "X = model.wv[vocab]"
   ]
  },
  {
   "cell_type": "code",
   "execution_count": 57,
   "id": "84832eff",
   "metadata": {},
   "outputs": [],
   "source": [
    "from sklearn.manifold import TSNE"
   ]
  },
  {
   "cell_type": "code",
   "execution_count": 58,
   "id": "b65c68b8",
   "metadata": {},
   "outputs": [],
   "source": [
    "tsne = TSNE(n_components=2)\n",
    "X_tsne = tsne.fit_transform(X)"
   ]
  },
  {
   "cell_type": "code",
   "execution_count": 59,
   "id": "a8fa65e4",
   "metadata": {},
   "outputs": [],
   "source": [
    "df = pd.DataFrame(X_tsne, index=vocab, columns=['x','y'])"
   ]
  },
  {
   "cell_type": "code",
   "execution_count": 68,
   "id": "b8eafcf2",
   "metadata": {},
   "outputs": [
    {
     "data": {
      "text/plain": [
       "x     9.080900\n",
       "y   -27.367327\n",
       "Name: the, dtype: float32"
      ]
     },
     "execution_count": 68,
     "metadata": {},
     "output_type": "execute_result"
    }
   ],
   "source": [
    "df.loc['the']"
   ]
  },
  {
   "cell_type": "code",
   "execution_count": 97,
   "id": "301838d0",
   "metadata": {},
   "outputs": [
    {
     "data": {
      "text/plain": [
       "x     9.080900\n",
       "y   -27.367327\n",
       "Name: the, dtype: float32"
      ]
     },
     "execution_count": 97,
     "metadata": {},
     "output_type": "execute_result"
    }
   ],
   "source": [
    "df.iloc[0]"
   ]
  },
  {
   "cell_type": "code",
   "execution_count": 98,
   "id": "e05d2f5c",
   "metadata": {},
   "outputs": [
    {
     "data": {
      "text/html": [
       "<div>\n",
       "<style scoped>\n",
       "    .dataframe tbody tr th:only-of-type {\n",
       "        vertical-align: middle;\n",
       "    }\n",
       "\n",
       "    .dataframe tbody tr th {\n",
       "        vertical-align: top;\n",
       "    }\n",
       "\n",
       "    .dataframe thead th {\n",
       "        text-align: right;\n",
       "    }\n",
       "</style>\n",
       "<table border=\"1\" class=\"dataframe\">\n",
       "  <thead>\n",
       "    <tr style=\"text-align: right;\">\n",
       "      <th></th>\n",
       "      <th>x</th>\n",
       "      <th>y</th>\n",
       "    </tr>\n",
       "  </thead>\n",
       "  <tbody>\n",
       "    <tr>\n",
       "      <th>the</th>\n",
       "      <td>9.080900</td>\n",
       "      <td>-27.367327</td>\n",
       "    </tr>\n",
       "    <tr>\n",
       "      <th>to</th>\n",
       "      <td>8.408158</td>\n",
       "      <td>-30.016670</td>\n",
       "    </tr>\n",
       "    <tr>\n",
       "      <th>and</th>\n",
       "      <td>8.595320</td>\n",
       "      <td>-30.189817</td>\n",
       "    </tr>\n",
       "    <tr>\n",
       "      <th>you</th>\n",
       "      <td>-13.109694</td>\n",
       "      <td>-42.185535</td>\n",
       "    </tr>\n",
       "    <tr>\n",
       "      <th>is</th>\n",
       "      <td>1.397774</td>\n",
       "      <td>-24.298342</td>\n",
       "    </tr>\n",
       "    <tr>\n",
       "      <th>...</th>\n",
       "      <td>...</td>\n",
       "      <td>...</td>\n",
       "    </tr>\n",
       "    <tr>\n",
       "      <th>ragequitters</th>\n",
       "      <td>7.224241</td>\n",
       "      <td>19.435146</td>\n",
       "    </tr>\n",
       "    <tr>\n",
       "      <th>rows</th>\n",
       "      <td>21.278358</td>\n",
       "      <td>9.363431</td>\n",
       "    </tr>\n",
       "    <tr>\n",
       "      <th>shnow</th>\n",
       "      <td>27.252644</td>\n",
       "      <td>39.208580</td>\n",
       "    </tr>\n",
       "    <tr>\n",
       "      <th>xmas</th>\n",
       "      <td>16.569359</td>\n",
       "      <td>13.075291</td>\n",
       "    </tr>\n",
       "    <tr>\n",
       "      <th>rafiitz</th>\n",
       "      <td>28.081831</td>\n",
       "      <td>34.363239</td>\n",
       "    </tr>\n",
       "  </tbody>\n",
       "</table>\n",
       "<p>27228 rows × 2 columns</p>\n",
       "</div>"
      ],
      "text/plain": [
       "                      x          y\n",
       "the            9.080900 -27.367327\n",
       "to             8.408158 -30.016670\n",
       "and            8.595320 -30.189817\n",
       "you          -13.109694 -42.185535\n",
       "is             1.397774 -24.298342\n",
       "...                 ...        ...\n",
       "ragequitters   7.224241  19.435146\n",
       "rows          21.278358   9.363431\n",
       "shnow         27.252644  39.208580\n",
       "xmas          16.569359  13.075291\n",
       "rafiitz       28.081831  34.363239\n",
       "\n",
       "[27228 rows x 2 columns]"
      ]
     },
     "execution_count": 98,
     "metadata": {},
     "output_type": "execute_result"
    }
   ],
   "source": [
    "df"
   ]
  },
  {
   "cell_type": "code",
   "execution_count": 71,
   "id": "6e49009f",
   "metadata": {},
   "outputs": [],
   "source": [
    "import matplotlib.pyplot as plt"
   ]
  },
  {
   "cell_type": "code",
   "execution_count": 96,
   "id": "7a6c4a42",
   "metadata": {},
   "outputs": [
    {
     "name": "stdout",
     "output_type": "stream",
     "text": [
      "bad \t [-21.445189, -41.40423]\n",
      "decent \t [-21.552238, -41.517162]\n",
      "great \t [-21.586025, -41.511234]\n",
      "solid \t [-21.572563, -41.497044]\n",
      "strong \t [10.614889, -22.611483]\n",
      "terrible \t [-20.181316, -34.638165]\n",
      "hard \t [9.263787, -23.758017]\n",
      "difficult \t [9.210935, -23.275816]\n",
      "weak \t [10.58605, -22.543108]\n",
      "tough \t [-34.813103, -4.9837813]\n"
     ]
    }
   ],
   "source": [
    "for i in model.wv.most_similar(\"good\"):\n",
    "    print(i[0], \"\\t\", [df.loc[i[0]][\"x\"], df.loc[i[0]][\"y\"]])"
   ]
  },
  {
   "cell_type": "markdown",
   "id": "0cb40d50",
   "metadata": {
    "tags": []
   },
   "source": [
    "## Plotting"
   ]
  },
  {
   "cell_type": "code",
   "execution_count": 117,
   "id": "434858dc",
   "metadata": {},
   "outputs": [],
   "source": [
    "# BAD\n",
    "words_similar_to_bad = model.wv.most_similar(\"bad\")\n",
    "\n",
    "bad_list = list()\n",
    "\n",
    "for i in words_similar_to_bad:\n",
    "    bad_list.append(i[0])\n",
    "\n",
    "# GOOD\n",
    "words_similar_to_good = model.wv.most_similar(\"good\")\n",
    "\n",
    "good_list = list()\n",
    "\n",
    "for i in words_similar_to_good:\n",
    "    good_list.append(i[0])\n",
    "    \n",
    "# BADASS\n",
    "words_similar_to_badass = model.wv.most_similar(\"badass\")\n",
    "\n",
    "badass_list = list()\n",
    "\n",
    "for i in words_similar_to_badass:\n",
    "    badass_list.append(i[0])\n",
    "    \n",
    "# DIFFICULT\n",
    "words_similar_to_difficult = model.wv.most_similar(\"difficult\")\n",
    "\n",
    "difficult_list = list()\n",
    "\n",
    "for i in words_similar_to_difficult:\n",
    "    difficult_list.append(i[0])\n",
    "    \n",
    "# THE\n",
    "words_similar_to_the = model.wv.most_similar(\"the\")\n",
    "\n",
    "the_list = list()\n",
    "\n",
    "for i in words_similar_to_the:\n",
    "    the_list.append(i[0])\n",
    "    \n",
    "# WORSHIPPED\n",
    "words_similar_to_worshipped = model.wv.most_similar(\"worshipped\")\n",
    "\n",
    "worshipped_list = list()\n",
    "\n",
    "for i in words_similar_to_worshipped:\n",
    "    worshipped_list.append(i[0])"
   ]
  },
  {
   "cell_type": "code",
   "execution_count": 118,
   "id": "f706e24e",
   "metadata": {},
   "outputs": [
    {
     "data": {
      "image/png": "[encoded data removed]",
      "text/plain": [
       "<Figure size 720x720 with 1 Axes>"
      ]
     },
     "metadata": {
      "needs_background": "light"
     },
     "output_type": "display_data"
    }
   ],
   "source": [
    "fig, ax = plt.subplots(figsize=(10,10))\n",
    "#ax = fig.add_subplot(1,1,1)\n",
    "\n",
    "ax.scatter(df['x'], df['y'])\n",
    "\n",
    "def plot_annotate(w,p,c):\n",
    "    ax.annotate(w, p, color = c, fontweight='bold', fontsize='x-large')\n",
    "\n",
    "for word, pos in df.iterrows():\n",
    "    if word in bad_list:\n",
    "        plot_annotate(word,pos,'orange')\n",
    "    if word in good_list:\n",
    "        plot_annotate(word,pos,'lawngreen')\n",
    "    if word in badass_list:\n",
    "        plot_annotate(word,pos,'magenta')\n",
    "    if word in difficult_list:\n",
    "        plot_annotate(word,pos,'gold')\n",
    "    if word in the_list:\n",
    "        plot_annotate(word, pos, 'cyan')\n",
    "    if word in worshipped_list:\n",
    "        plot_annotate(word, pos, 'hotpink')\n"
   ]
  },
  {
   "cell_type": "code",
   "execution_count": 119,
   "id": "90a1363b",
   "metadata": {},
   "outputs": [
    {
     "data": {
      "text/plain": [
       "<Figure size 432x288 with 0 Axes>"
      ]
     },
     "metadata": {},
     "output_type": "display_data"
    }
   ],
   "source": [
    "plt.savefig('./window_10.png')"
   ]
  },
  {
   "cell_type": "markdown",
   "id": "62d6ae79",
   "metadata": {
    "tags": []
   },
   "source": [
    "## Creating a new model"
   ]
  },
  {
   "cell_type": "markdown",
   "id": "a12c772d",
   "metadata": {},
   "source": [
    "Still using the same technique as earlier, I'm experimenting how certain words ('the', 'good', 'bad', 'badass', 'worshipped') map when we change the size of the window used to build the model."
   ]
  },
  {
   "cell_type": "code",
   "execution_count": 120,
   "id": "627b7dec",
   "metadata": {},
   "outputs": [],
   "source": [
    "model_2 = gensim.models.Word2Vec(\n",
    "    window=5,\n",
    "    min_count=2,\n",
    "    workers=4\n",
    ")\n",
    "\n",
    "model_2.build_vocab(text_1, progress_per=1000)\n",
    "\n",
    "model_2.train(text_1, total_examples=model_2.corpus_count, epochs=model_2.epochs)\n",
    "\n",
    "model_2.save(\"./word2vec-minibatch-1-model-2.model\")\n",
    "\n",
    "vocab_2 = list(model_2.wv.key_to_index)\n",
    "X_2 = model_2.wv[vocab_2]\n",
    "\n",
    "tsne_2 = TSNE(n_components=2)\n",
    "X_tsne_2 = tsne_2.fit_transform(X_2)\n",
    "\n",
    "df_2 = pd.DataFrame(X_tsne_2, index=vocab_2, columns=['x','y'])"
   ]
  },
  {
   "cell_type": "code",
   "execution_count": 121,
   "id": "1bfa7168",
   "metadata": {},
   "outputs": [],
   "source": [
    "# BAD\n",
    "words_similar_to_bad = model_2.wv.most_similar(\"bad\")\n",
    "\n",
    "bad_list = list()\n",
    "\n",
    "for i in words_similar_to_bad:\n",
    "    bad_list.append(i[0])\n",
    "\n",
    "# GOOD\n",
    "words_similar_to_good = model_2.wv.most_similar(\"good\")\n",
    "\n",
    "good_list = list()\n",
    "\n",
    "for i in words_similar_to_good:\n",
    "    good_list.append(i[0])\n",
    "    \n",
    "# BADASS\n",
    "words_similar_to_badass = model_2.wv.most_similar(\"badass\")\n",
    "\n",
    "badass_list = list()\n",
    "\n",
    "for i in words_similar_to_badass:\n",
    "    badass_list.append(i[0])\n",
    "    \n",
    "# DIFFICULT\n",
    "words_similar_to_difficult = model_2.wv.most_similar(\"difficult\")\n",
    "\n",
    "difficult_list = list()\n",
    "\n",
    "for i in words_similar_to_difficult:\n",
    "    difficult_list.append(i[0])\n",
    "    \n",
    "# THE\n",
    "words_similar_to_the = model_2.wv.most_similar(\"the\")\n",
    "\n",
    "the_list = list()\n",
    "\n",
    "for i in words_similar_to_the:\n",
    "    the_list.append(i[0])\n",
    "    \n",
    "# WORSHIPPED\n",
    "words_similar_to_worshipped = model_2.wv.most_similar(\"worshipped\")\n",
    "\n",
    "worshipped_list = list()\n",
    "\n",
    "for i in words_similar_to_worshipped:\n",
    "    worshipped_list.append(i[0])"
   ]
  },
  {
   "cell_type": "code",
   "execution_count": 122,
   "id": "3f23ec75",
   "metadata": {},
   "outputs": [
    {
     "data": {
      "image/png": "[encoded data removed]",
      "text/plain": [
       "<Figure size 720x720 with 1 Axes>"
      ]
     },
     "metadata": {
      "needs_background": "light"
     },
     "output_type": "display_data"
    }
   ],
   "source": [
    "fig, ax = plt.subplots(figsize=(10,10))\n",
    "#ax = fig.add_subplot(1,1,1)\n",
    "\n",
    "ax.scatter(df_2['x'], df_2['y'])\n",
    "\n",
    "def plot_annotate(w,p,c):\n",
    "    ax.annotate(w, p, color = c, fontweight='bold', fontsize='x-large')\n",
    "\n",
    "for word, pos in df.iterrows():\n",
    "    if word in bad_list:\n",
    "        plot_annotate(word,pos,'orange')\n",
    "    if word in good_list:\n",
    "        plot_annotate(word,pos,'lawngreen')\n",
    "    if word in badass_list:\n",
    "        plot_annotate(word,pos,'magenta')\n",
    "    if word in difficult_list:\n",
    "        plot_annotate(word,pos,'gold')\n",
    "    if word in the_list:\n",
    "        plot_annotate(word, pos, 'cyan')\n",
    "    if word in worshipped_list:\n",
    "        plot_annotate(word, pos, 'hotpink')\n"
   ]
  },
  {
   "cell_type": "code",
   "execution_count": 123,
   "id": "797aa4a2",
   "metadata": {},
   "outputs": [
    {
     "data": {
      "text/plain": [
       "<Figure size 432x288 with 0 Axes>"
      ]
     },
     "metadata": {},
     "output_type": "display_data"
    }
   ],
   "source": [
    "plt.savefig('./window_5.png')"
   ]
  },
  {
   "cell_type": "code",
   "execution_count": 124,
   "id": "a7612ea3",
   "metadata": {},
   "outputs": [],
   "source": [
    "model_3 = gensim.models.Word2Vec(\n",
    "    window=4,\n",
    "    min_count=2,\n",
    "    workers=4\n",
    ")\n",
    "\n",
    "model_3.build_vocab(text_1, progress_per=1000)\n",
    "\n",
    "model_3.train(text_1, \n",
    "              total_examples=model_3.corpus_count, \n",
    "              epochs=model_3.epochs)\n",
    "\n",
    "model_3.save(\"./word2vec-minibatch-1-model-3.model\")\n",
    "\n",
    "vocab_3 = list(model_3.wv.key_to_index)\n",
    "X_3 = model_3.wv[vocab_3]\n",
    "\n",
    "tsne_3 = TSNE(n_components=2)\n",
    "X_tsne_3 = tsne_3.fit_transform(X_3)\n",
    "\n",
    "df_3 = pd.DataFrame(X_tsne_3, index=vocab_3, columns=['x','y'])"
   ]
  },
  {
   "cell_type": "code",
   "execution_count": 125,
   "id": "1e31a25c",
   "metadata": {},
   "outputs": [],
   "source": [
    "# BAD\n",
    "words_similar_to_bad = model_3.wv.most_similar(\"bad\")\n",
    "\n",
    "bad_list = list()\n",
    "\n",
    "for i in words_similar_to_bad:\n",
    "    bad_list.append(i[0])\n",
    "\n",
    "# GOOD\n",
    "words_similar_to_good = model_3.wv.most_similar(\"good\")\n",
    "\n",
    "good_list = list()\n",
    "\n",
    "for i in words_similar_to_good:\n",
    "    good_list.append(i[0])\n",
    "    \n",
    "# BADASS\n",
    "words_similar_to_badass = model_3.wv.most_similar(\"badass\")\n",
    "\n",
    "badass_list = list()\n",
    "\n",
    "for i in words_similar_to_badass:\n",
    "    badass_list.append(i[0])\n",
    "    \n",
    "# DIFFICULT\n",
    "words_similar_to_difficult = model_2.wv.most_similar(\"difficult\")\n",
    "\n",
    "difficult_list = list()\n",
    "\n",
    "for i in words_similar_to_difficult:\n",
    "    difficult_list.append(i[0])\n",
    "    \n",
    "# THE\n",
    "words_similar_to_the = model_3.wv.most_similar(\"the\")\n",
    "\n",
    "the_list = list()\n",
    "\n",
    "for i in words_similar_to_the:\n",
    "    the_list.append(i[0])\n",
    "    \n",
    "# WORSHIPPED\n",
    "words_similar_to_worshipped = model_3.wv.most_similar(\"worshipped\")\n",
    "\n",
    "worshipped_list = list()\n",
    "\n",
    "for i in words_similar_to_worshipped:\n",
    "    worshipped_list.append(i[0])"
   ]
  },
  {
   "cell_type": "code",
   "execution_count": 126,
   "id": "b5367db1",
   "metadata": {},
   "outputs": [
    {
     "data": {
      "image/png": "[encoded data removed]",
      "text/plain": [
       "<Figure size 720x720 with 1 Axes>"
      ]
     },
     "metadata": {
      "needs_background": "light"
     },
     "output_type": "display_data"
    }
   ],
   "source": [
    "fig, ax = plt.subplots(figsize=(10,10))\n",
    "#ax = fig.add_subplot(1,1,1)\n",
    "\n",
    "ax.scatter(df_3['x'], df_3['y'])\n",
    "\n",
    "def plot_annotate(w,p,c):\n",
    "    ax.annotate(w, p, color = c, fontweight='bold', fontsize='x-large')\n",
    "\n",
    "for word, pos in df.iterrows():\n",
    "    if word in bad_list:\n",
    "        plot_annotate(word,pos,'orange')\n",
    "    if word in good_list:\n",
    "        plot_annotate(word,pos,'lawngreen')\n",
    "    if word in badass_list:\n",
    "        plot_annotate(word,pos,'magenta')\n",
    "    if word in difficult_list:\n",
    "        plot_annotate(word,pos,'gold')\n",
    "    if word in the_list:\n",
    "        plot_annotate(word, pos, 'cyan')\n",
    "    if word in worshipped_list:\n",
    "        plot_annotate(word, pos, 'hotpink')\n"
   ]
  },
  {
   "cell_type": "code",
   "execution_count": 127,
   "id": "e227dadd",
   "metadata": {},
   "outputs": [
    {
     "data": {
      "text/plain": [
       "<Figure size 432x288 with 0 Axes>"
      ]
     },
     "metadata": {},
     "output_type": "display_data"
    }
   ],
   "source": [
    "plt.savefig('./window_4.png')"
   ]
  },
  {
   "cell_type": "markdown",
   "id": "cbf5e621",
   "metadata": {
    "jp-MarkdownHeadingCollapsed": true,
    "tags": []
   },
   "source": [
    "# Combining comments"
   ]
  },
  {
   "cell_type": "code",
   "execution_count": 1,
   "id": "beec5920",
   "metadata": {},
   "outputs": [
    {
     "name": "stdout",
     "output_type": "stream",
     "text": [
      " Volume in drive C is Windows\n",
      " Volume Serial Number is 5029-78BD\n",
      "\n",
      " Directory of C:\\Users\\aKost\\Desktop\\2021-2022\\SPRING 2022\\capstone\n",
      "\n",
      "04/06/2022  11:28 PM    <DIR>          .\n",
      "04/06/2022  11:28 PM    <DIR>          ..\n",
      "04/06/2022  09:23 PM    <DIR>          .ipynb_checkpoints\n",
      "04/06/2022  11:28 PM        31,159,544 comments_dataframe_1.csv\n",
      "04/05/2022  05:18 AM        33,808,934 comments_dataframe_2.csv\n",
      "04/06/2022  10:56 PM        12,281,544 comments_dataframe_2.zip\n",
      "04/06/2022  11:28 PM        35,965,689 comments_dataframe_3.csv\n",
      "04/04/2022  09:40 AM        34,204,493 comments_dataframe_4.csv\n",
      "04/04/2022  05:38 PM        36,042,101 comments_dataframe_5.csv\n",
      "04/02/2022  07:56 PM        60,328,596 june_to_march_postings.csv\n",
      "04/06/2022  10:54 PM        12,738,224 june_to_march_postings.zip\n",
      "04/06/2022  09:27 PM            35,217 Submission Gathering.ipynb\n",
      "04/06/2022  09:27 PM            58,178 Submission Gathering.pdf\n",
      "04/06/2022  09:34 PM            29,362 Subreddit Comment Gathering.ipynb\n",
      "04/06/2022  09:35 PM            71,529 Subreddit Comment Gathering.pdf\n",
      "04/06/2022  10:15 PM             1,257 window_10.png\n",
      "04/06/2022  10:30 PM             1,257 window_4.png\n",
      "04/06/2022  10:24 PM             1,257 window_5.png\n",
      "04/06/2022  10:44 PM           316,421 Word2Vec Development.ipynb\n",
      "04/06/2022  10:44 PM           258,300 Word2Vec Development.pdf\n",
      "04/06/2022  10:19 PM        22,605,266 word2vec-minibatch-1-model-2.model\n",
      "04/06/2022  10:26 PM        22,605,265 word2vec-minibatch-1-model-3.model\n",
      "04/06/2022  06:31 PM        22,605,259 word2vec-minibatch-1.model\n",
      "              20 File(s)    325,117,693 bytes\n",
      "               3 Dir(s)  19,359,240,192 bytes free\n"
     ]
    }
   ],
   "source": [
    "!dir"
   ]
  },
  {
   "cell_type": "code",
   "execution_count": 2,
   "id": "81332f42",
   "metadata": {},
   "outputs": [],
   "source": [
    "import pandas as pd"
   ]
  },
  {
   "cell_type": "code",
   "execution_count": 3,
   "id": "78291e5f",
   "metadata": {},
   "outputs": [],
   "source": [
    "files = [\n",
    "    'comments_dataframe_2.csv',\n",
    "    'comments_dataframe_3.csv',\n",
    "    'comments_dataframe_4.csv',\n",
    "    'comments_dataframe_5.csv'\n",
    "]"
   ]
  },
  {
   "cell_type": "code",
   "execution_count": 4,
   "id": "1e1da500",
   "metadata": {},
   "outputs": [],
   "source": [
    "mega_table = pd.read_csv('comments_dataframe_1.csv')\n",
    "\n",
    "for f in files:\n",
    "    temp = pd.read_csv(f)\n",
    "    mega_table = pd.concat([mega_table, temp], axis=0)"
   ]
  },
  {
   "cell_type": "code",
   "execution_count": 5,
   "id": "1c7fbfda",
   "metadata": {},
   "outputs": [],
   "source": [
    "remove = [\"This submission has been removed because\",\"Your post has been removed automatically\"]\n",
    "for r in remove:\n",
    "    mega_table = mega_table[mega_table[\"comment_text\"].str.contains(r)==False]"
   ]
  },
  {
   "cell_type": "code",
   "execution_count": 6,
   "id": "65bd5397",
   "metadata": {},
   "outputs": [
    {
     "data": {
      "text/plain": [
       "(819322, 4)"
      ]
     },
     "execution_count": 6,
     "metadata": {},
     "output_type": "execute_result"
    }
   ],
   "source": [
    "mega_table.shape"
   ]
  },
  {
   "cell_type": "code",
   "execution_count": 7,
   "id": "7fabfe4f",
   "metadata": {},
   "outputs": [],
   "source": [
    "mega_table.to_csv('comments_dataframe.csv')"
   ]
  },
  {
   "cell_type": "markdown",
   "id": "e74eb382",
   "metadata": {},
   "source": [
    "# Word2Vec Using All Comments"
   ]
  },
  {
   "cell_type": "markdown",
   "id": "757f75b7-a573-41e6-840b-aa3792a62225",
   "metadata": {
    "tags": []
   },
   "source": [
    "### Load and Inspect"
   ]
  },
  {
   "cell_type": "code",
   "execution_count": 1,
   "id": "c417f629",
   "metadata": {},
   "outputs": [
    {
     "name": "stdout",
     "output_type": "stream",
     "text": [
      " Volume in drive D is A1\n",
      " Volume Serial Number is 9B90-B280\n",
      "\n",
      " Directory of D:\\2021-2022\\SPRING 2022\\capstone\n",
      "\n",
      "04/08/2022  05:32 PM    <DIR>          .\n",
      "04/08/2022  05:32 PM    <DIR>          ..\n",
      "04/08/2022  05:29 PM            20,621 Inverse Dictionary Builder.ipynb\n",
      "04/07/2022  08:33 PM           323,056 Word2Vec Development.ipynb\n",
      "04/08/2022  04:45 PM    <DIR>          .ipynb_checkpoints\n",
      "04/08/2022  04:44 PM    <DIR>          completed_notebooks\n",
      "04/08/2022  04:33 PM    <DIR>          data\n",
      "04/08/2022  04:34 PM    <DIR>          figures\n",
      "04/08/2022  04:34 PM    <DIR>          models\n",
      "04/08/2022  04:33 PM    <DIR>          notebook_pdfs\n",
      "               2 File(s)        343,677 bytes\n",
      "               8 Dir(s)  122,662,715,392 bytes free\n"
     ]
    }
   ],
   "source": [
    "!dir"
   ]
  },
  {
   "cell_type": "code",
   "execution_count": 1,
   "id": "baa89d91",
   "metadata": {},
   "outputs": [],
   "source": [
    "import gensim\n",
    "import pandas as pd"
   ]
  },
  {
   "cell_type": "code",
   "execution_count": 2,
   "id": "b97890d0",
   "metadata": {},
   "outputs": [],
   "source": [
    "import numpy as np\n",
    "import matplotlib as mpl\n",
    "import matplotlib.pyplot as plt\n",
    "\n",
    "from sklearn.preprocessing import scale\n",
    "from sklearn.decomposition import PCA\n",
    "from sklearn.cluster import KMeans\n",
    "\n",
    "%matplotlib inline"
   ]
  },
  {
   "cell_type": "code",
   "execution_count": 3,
   "id": "2882d428-fc05-47df-9059-28b70cb9023f",
   "metadata": {},
   "outputs": [],
   "source": [
    "df_comments = pd.read_csv(\"data/comments_dataframe.csv\", index_col=[0])"
   ]
  },
  {
   "cell_type": "code",
   "execution_count": 4,
   "id": "70a0fc3f-6765-46b8-95ac-47aa1788307d",
   "metadata": {},
   "outputs": [
    {
     "data": {
      "text/html": [
       "<div>\n",
       "<style scoped>\n",
       "    .dataframe tbody tr th:only-of-type {\n",
       "        vertical-align: middle;\n",
       "    }\n",
       "\n",
       "    .dataframe tbody tr th {\n",
       "        vertical-align: top;\n",
       "    }\n",
       "\n",
       "    .dataframe thead th {\n",
       "        text-align: right;\n",
       "    }\n",
       "</style>\n",
       "<table border=\"1\" class=\"dataframe\">\n",
       "  <thead>\n",
       "    <tr style=\"text-align: right;\">\n",
       "      <th></th>\n",
       "      <th>submission_id</th>\n",
       "      <th>comment_id</th>\n",
       "      <th>comment_text</th>\n",
       "    </tr>\n",
       "  </thead>\n",
       "  <tbody>\n",
       "    <tr>\n",
       "      <th>0</th>\n",
       "      <td>o00m44</td>\n",
       "      <td>h1si8vd</td>\n",
       "      <td>Roam by having the wave pushed to enemy turret...</td>\n",
       "    </tr>\n",
       "    <tr>\n",
       "      <th>1</th>\n",
       "      <td>o00m44</td>\n",
       "      <td>h1sil8e</td>\n",
       "      <td>The first step to roaming is having good wave ...</td>\n",
       "    </tr>\n",
       "    <tr>\n",
       "      <th>2</th>\n",
       "      <td>o00m44</td>\n",
       "      <td>h1sigkk</td>\n",
       "      <td>Try not to roam when you think you won't get a...</td>\n",
       "    </tr>\n",
       "    <tr>\n",
       "      <th>3</th>\n",
       "      <td>o00m44</td>\n",
       "      <td>h1sttyw</td>\n",
       "      <td>Roam less. farm more</td>\n",
       "    </tr>\n",
       "    <tr>\n",
       "      <th>4</th>\n",
       "      <td>o00m44</td>\n",
       "      <td>h1sqn3p</td>\n",
       "      <td>1 roam kill is one missed wave. One missed wav...</td>\n",
       "    </tr>\n",
       "    <tr>\n",
       "      <th>...</th>\n",
       "      <td>...</td>\n",
       "      <td>...</td>\n",
       "      <td>...</td>\n",
       "    </tr>\n",
       "    <tr>\n",
       "      <th>819317</th>\n",
       "      <td>t3tx4z</td>\n",
       "      <td>hyuijui</td>\n",
       "      <td>Look in event viewer in windows to see what is...</td>\n",
       "    </tr>\n",
       "    <tr>\n",
       "      <th>819318</th>\n",
       "      <td>t3tx4z</td>\n",
       "      <td>hyujigw</td>\n",
       "      <td>Hi /u/-CrestiaBell. Thank you for participatin...</td>\n",
       "    </tr>\n",
       "    <tr>\n",
       "      <th>819319</th>\n",
       "      <td>t3tx4z</td>\n",
       "      <td>hyujjc3</td>\n",
       "      <td>Im on a similar laptop with W11 and no problem...</td>\n",
       "    </tr>\n",
       "    <tr>\n",
       "      <th>819320</th>\n",
       "      <td>t3twyu</td>\n",
       "      <td>hyujgh3</td>\n",
       "      <td>Hi /u/DiabloDJ. Thank you for participating in...</td>\n",
       "    </tr>\n",
       "    <tr>\n",
       "      <th>819321</th>\n",
       "      <td>t3twhr</td>\n",
       "      <td>hyuikvu</td>\n",
       "      <td>Hi /u/NotARussian421. Thank you for participat...</td>\n",
       "    </tr>\n",
       "  </tbody>\n",
       "</table>\n",
       "<p>819322 rows × 3 columns</p>\n",
       "</div>"
      ],
      "text/plain": [
       "       submission_id comment_id  \\\n",
       "0             o00m44    h1si8vd   \n",
       "1             o00m44    h1sil8e   \n",
       "2             o00m44    h1sigkk   \n",
       "3             o00m44    h1sttyw   \n",
       "4             o00m44    h1sqn3p   \n",
       "...              ...        ...   \n",
       "819317        t3tx4z    hyuijui   \n",
       "819318        t3tx4z    hyujigw   \n",
       "819319        t3tx4z    hyujjc3   \n",
       "819320        t3twyu    hyujgh3   \n",
       "819321        t3twhr    hyuikvu   \n",
       "\n",
       "                                             comment_text  \n",
       "0       Roam by having the wave pushed to enemy turret...  \n",
       "1       The first step to roaming is having good wave ...  \n",
       "2       Try not to roam when you think you won't get a...  \n",
       "3                                    Roam less. farm more  \n",
       "4       1 roam kill is one missed wave. One missed wav...  \n",
       "...                                                   ...  \n",
       "819317  Look in event viewer in windows to see what is...  \n",
       "819318  Hi /u/-CrestiaBell. Thank you for participatin...  \n",
       "819319  Im on a similar laptop with W11 and no problem...  \n",
       "819320  Hi /u/DiabloDJ. Thank you for participating in...  \n",
       "819321  Hi /u/NotARussian421. Thank you for participat...  \n",
       "\n",
       "[819322 rows x 3 columns]"
      ]
     },
     "execution_count": 4,
     "metadata": {},
     "output_type": "execute_result"
    }
   ],
   "source": [
    "df_comments"
   ]
  },
  {
   "cell_type": "code",
   "execution_count": 5,
   "id": "17f636a3-ee2c-4d82-90c0-61beba023434",
   "metadata": {},
   "outputs": [
    {
     "data": {
      "text/plain": [
       "(819322, 3)"
      ]
     },
     "execution_count": 5,
     "metadata": {},
     "output_type": "execute_result"
    }
   ],
   "source": [
    "df_comments.shape"
   ]
  },
  {
   "cell_type": "markdown",
   "id": "c5f4214e-7246-4afa-a577-4fe6618eeaeb",
   "metadata": {
    "tags": []
   },
   "source": [
    "### Clean"
   ]
  },
  {
   "cell_type": "code",
   "execution_count": 6,
   "id": "86041a3c-3ab4-42cb-aab3-b82afcc73789",
   "metadata": {},
   "outputs": [],
   "source": [
    "remove = [\"Your post has been removed automatically\",\"This submission has been removed because\"]\n",
    "for r in remove:\n",
    "    df_comments = df_comments[df_comments[\"comment_text\"].str.contains(r)==False]"
   ]
  },
  {
   "cell_type": "code",
   "execution_count": 7,
   "id": "46c2ec62-4496-43fe-a8f9-7762aa789d9b",
   "metadata": {},
   "outputs": [
    {
     "data": {
      "text/html": [
       "<div>\n",
       "<style scoped>\n",
       "    .dataframe tbody tr th:only-of-type {\n",
       "        vertical-align: middle;\n",
       "    }\n",
       "\n",
       "    .dataframe tbody tr th {\n",
       "        vertical-align: top;\n",
       "    }\n",
       "\n",
       "    .dataframe thead th {\n",
       "        text-align: right;\n",
       "    }\n",
       "</style>\n",
       "<table border=\"1\" class=\"dataframe\">\n",
       "  <thead>\n",
       "    <tr style=\"text-align: right;\">\n",
       "      <th></th>\n",
       "      <th>submission_id</th>\n",
       "      <th>comment_id</th>\n",
       "      <th>comment_text</th>\n",
       "    </tr>\n",
       "  </thead>\n",
       "  <tbody>\n",
       "    <tr>\n",
       "      <th>0</th>\n",
       "      <td>o00m44</td>\n",
       "      <td>h1si8vd</td>\n",
       "      <td>Roam by having the wave pushed to enemy turret...</td>\n",
       "    </tr>\n",
       "    <tr>\n",
       "      <th>1</th>\n",
       "      <td>o00m44</td>\n",
       "      <td>h1sil8e</td>\n",
       "      <td>The first step to roaming is having good wave ...</td>\n",
       "    </tr>\n",
       "    <tr>\n",
       "      <th>2</th>\n",
       "      <td>o00m44</td>\n",
       "      <td>h1sigkk</td>\n",
       "      <td>Try not to roam when you think you won't get a...</td>\n",
       "    </tr>\n",
       "    <tr>\n",
       "      <th>3</th>\n",
       "      <td>o00m44</td>\n",
       "      <td>h1sttyw</td>\n",
       "      <td>Roam less. farm more</td>\n",
       "    </tr>\n",
       "    <tr>\n",
       "      <th>4</th>\n",
       "      <td>o00m44</td>\n",
       "      <td>h1sqn3p</td>\n",
       "      <td>1 roam kill is one missed wave. One missed wav...</td>\n",
       "    </tr>\n",
       "    <tr>\n",
       "      <th>...</th>\n",
       "      <td>...</td>\n",
       "      <td>...</td>\n",
       "      <td>...</td>\n",
       "    </tr>\n",
       "    <tr>\n",
       "      <th>819317</th>\n",
       "      <td>t3tx4z</td>\n",
       "      <td>hyuijui</td>\n",
       "      <td>Look in event viewer in windows to see what is...</td>\n",
       "    </tr>\n",
       "    <tr>\n",
       "      <th>819318</th>\n",
       "      <td>t3tx4z</td>\n",
       "      <td>hyujigw</td>\n",
       "      <td>Hi /u/-CrestiaBell. Thank you for participatin...</td>\n",
       "    </tr>\n",
       "    <tr>\n",
       "      <th>819319</th>\n",
       "      <td>t3tx4z</td>\n",
       "      <td>hyujjc3</td>\n",
       "      <td>Im on a similar laptop with W11 and no problem...</td>\n",
       "    </tr>\n",
       "    <tr>\n",
       "      <th>819320</th>\n",
       "      <td>t3twyu</td>\n",
       "      <td>hyujgh3</td>\n",
       "      <td>Hi /u/DiabloDJ. Thank you for participating in...</td>\n",
       "    </tr>\n",
       "    <tr>\n",
       "      <th>819321</th>\n",
       "      <td>t3twhr</td>\n",
       "      <td>hyuikvu</td>\n",
       "      <td>Hi /u/NotARussian421. Thank you for participat...</td>\n",
       "    </tr>\n",
       "  </tbody>\n",
       "</table>\n",
       "<p>819322 rows × 3 columns</p>\n",
       "</div>"
      ],
      "text/plain": [
       "       submission_id comment_id  \\\n",
       "0             o00m44    h1si8vd   \n",
       "1             o00m44    h1sil8e   \n",
       "2             o00m44    h1sigkk   \n",
       "3             o00m44    h1sttyw   \n",
       "4             o00m44    h1sqn3p   \n",
       "...              ...        ...   \n",
       "819317        t3tx4z    hyuijui   \n",
       "819318        t3tx4z    hyujigw   \n",
       "819319        t3tx4z    hyujjc3   \n",
       "819320        t3twyu    hyujgh3   \n",
       "819321        t3twhr    hyuikvu   \n",
       "\n",
       "                                             comment_text  \n",
       "0       Roam by having the wave pushed to enemy turret...  \n",
       "1       The first step to roaming is having good wave ...  \n",
       "2       Try not to roam when you think you won't get a...  \n",
       "3                                    Roam less. farm more  \n",
       "4       1 roam kill is one missed wave. One missed wav...  \n",
       "...                                                   ...  \n",
       "819317  Look in event viewer in windows to see what is...  \n",
       "819318  Hi /u/-CrestiaBell. Thank you for participatin...  \n",
       "819319  Im on a similar laptop with W11 and no problem...  \n",
       "819320  Hi /u/DiabloDJ. Thank you for participating in...  \n",
       "819321  Hi /u/NotARussian421. Thank you for participat...  \n",
       "\n",
       "[819322 rows x 3 columns]"
      ]
     },
     "execution_count": 7,
     "metadata": {},
     "output_type": "execute_result"
    }
   ],
   "source": [
    "df_comments"
   ]
  },
  {
   "cell_type": "code",
   "execution_count": 8,
   "id": "4a18e767-298e-48df-9fb8-3a8897daceee",
   "metadata": {},
   "outputs": [],
   "source": [
    "# drop=True makes sure that the index resetting is in the actual index \n",
    "# rather than making a column called 'index'\n",
    "df_comments = df_comments.reset_index(drop=True) "
   ]
  },
  {
   "cell_type": "code",
   "execution_count": 9,
   "id": "189adfd0-3be1-45cb-9f1b-b7e6478ecff9",
   "metadata": {},
   "outputs": [
    {
     "data": {
      "text/html": [
       "<div>\n",
       "<style scoped>\n",
       "    .dataframe tbody tr th:only-of-type {\n",
       "        vertical-align: middle;\n",
       "    }\n",
       "\n",
       "    .dataframe tbody tr th {\n",
       "        vertical-align: top;\n",
       "    }\n",
       "\n",
       "    .dataframe thead th {\n",
       "        text-align: right;\n",
       "    }\n",
       "</style>\n",
       "<table border=\"1\" class=\"dataframe\">\n",
       "  <thead>\n",
       "    <tr style=\"text-align: right;\">\n",
       "      <th></th>\n",
       "      <th>submission_id</th>\n",
       "      <th>comment_id</th>\n",
       "      <th>comment_text</th>\n",
       "    </tr>\n",
       "  </thead>\n",
       "  <tbody>\n",
       "    <tr>\n",
       "      <th>0</th>\n",
       "      <td>o00m44</td>\n",
       "      <td>h1si8vd</td>\n",
       "      <td>Roam by having the wave pushed to enemy turret...</td>\n",
       "    </tr>\n",
       "    <tr>\n",
       "      <th>1</th>\n",
       "      <td>o00m44</td>\n",
       "      <td>h1sil8e</td>\n",
       "      <td>The first step to roaming is having good wave ...</td>\n",
       "    </tr>\n",
       "    <tr>\n",
       "      <th>2</th>\n",
       "      <td>o00m44</td>\n",
       "      <td>h1sigkk</td>\n",
       "      <td>Try not to roam when you think you won't get a...</td>\n",
       "    </tr>\n",
       "    <tr>\n",
       "      <th>3</th>\n",
       "      <td>o00m44</td>\n",
       "      <td>h1sttyw</td>\n",
       "      <td>Roam less. farm more</td>\n",
       "    </tr>\n",
       "    <tr>\n",
       "      <th>4</th>\n",
       "      <td>o00m44</td>\n",
       "      <td>h1sqn3p</td>\n",
       "      <td>1 roam kill is one missed wave. One missed wav...</td>\n",
       "    </tr>\n",
       "    <tr>\n",
       "      <th>...</th>\n",
       "      <td>...</td>\n",
       "      <td>...</td>\n",
       "      <td>...</td>\n",
       "    </tr>\n",
       "    <tr>\n",
       "      <th>819317</th>\n",
       "      <td>t3tx4z</td>\n",
       "      <td>hyuijui</td>\n",
       "      <td>Look in event viewer in windows to see what is...</td>\n",
       "    </tr>\n",
       "    <tr>\n",
       "      <th>819318</th>\n",
       "      <td>t3tx4z</td>\n",
       "      <td>hyujigw</td>\n",
       "      <td>Hi /u/-CrestiaBell. Thank you for participatin...</td>\n",
       "    </tr>\n",
       "    <tr>\n",
       "      <th>819319</th>\n",
       "      <td>t3tx4z</td>\n",
       "      <td>hyujjc3</td>\n",
       "      <td>Im on a similar laptop with W11 and no problem...</td>\n",
       "    </tr>\n",
       "    <tr>\n",
       "      <th>819320</th>\n",
       "      <td>t3twyu</td>\n",
       "      <td>hyujgh3</td>\n",
       "      <td>Hi /u/DiabloDJ. Thank you for participating in...</td>\n",
       "    </tr>\n",
       "    <tr>\n",
       "      <th>819321</th>\n",
       "      <td>t3twhr</td>\n",
       "      <td>hyuikvu</td>\n",
       "      <td>Hi /u/NotARussian421. Thank you for participat...</td>\n",
       "    </tr>\n",
       "  </tbody>\n",
       "</table>\n",
       "<p>819322 rows × 3 columns</p>\n",
       "</div>"
      ],
      "text/plain": [
       "       submission_id comment_id  \\\n",
       "0             o00m44    h1si8vd   \n",
       "1             o00m44    h1sil8e   \n",
       "2             o00m44    h1sigkk   \n",
       "3             o00m44    h1sttyw   \n",
       "4             o00m44    h1sqn3p   \n",
       "...              ...        ...   \n",
       "819317        t3tx4z    hyuijui   \n",
       "819318        t3tx4z    hyujigw   \n",
       "819319        t3tx4z    hyujjc3   \n",
       "819320        t3twyu    hyujgh3   \n",
       "819321        t3twhr    hyuikvu   \n",
       "\n",
       "                                             comment_text  \n",
       "0       Roam by having the wave pushed to enemy turret...  \n",
       "1       The first step to roaming is having good wave ...  \n",
       "2       Try not to roam when you think you won't get a...  \n",
       "3                                    Roam less. farm more  \n",
       "4       1 roam kill is one missed wave. One missed wav...  \n",
       "...                                                   ...  \n",
       "819317  Look in event viewer in windows to see what is...  \n",
       "819318  Hi /u/-CrestiaBell. Thank you for participatin...  \n",
       "819319  Im on a similar laptop with W11 and no problem...  \n",
       "819320  Hi /u/DiabloDJ. Thank you for participating in...  \n",
       "819321  Hi /u/NotARussian421. Thank you for participat...  \n",
       "\n",
       "[819322 rows x 3 columns]"
      ]
     },
     "execution_count": 9,
     "metadata": {},
     "output_type": "execute_result"
    }
   ],
   "source": [
    "df_comments"
   ]
  },
  {
   "cell_type": "code",
   "execution_count": 10,
   "id": "1ba5546a",
   "metadata": {},
   "outputs": [],
   "source": [
    "df_comments.to_csv(\"data/comments_dataframe.csv\")"
   ]
  },
  {
   "cell_type": "markdown",
   "id": "1e1e0091-f4f8-4237-9563-62f9ca6806b1",
   "metadata": {
    "tags": []
   },
   "source": [
    "### Text preprocessing"
   ]
  },
  {
   "cell_type": "code",
   "execution_count": 11,
   "id": "e24ebfc5-ba4a-4f6b-8f97-ddfa750558d2",
   "metadata": {},
   "outputs": [],
   "source": [
    "preprocessed_comments = df_comments.comment_text.apply(gensim.utils.simple_preprocess)"
   ]
  },
  {
   "cell_type": "code",
   "execution_count": 12,
   "id": "52a759f9-ca10-46f2-83bf-323d1c80a1cc",
   "metadata": {},
   "outputs": [
    {
     "data": {
      "text/plain": [
       "0    [roam, by, having, the, wave, pushed, to, enem...\n",
       "1    [the, first, step, to, roaming, is, having, go...\n",
       "2    [try, not, to, roam, when, you, think, you, wo...\n",
       "3                             [roam, less, farm, more]\n",
       "4    [roam, kill, is, one, missed, wave, one, misse...\n",
       "Name: comment_text, dtype: object"
      ]
     },
     "execution_count": 12,
     "metadata": {},
     "output_type": "execute_result"
    }
   ],
   "source": [
    "preprocessed_comments[:5]"
   ]
  },
  {
   "cell_type": "markdown",
   "id": "26347134-64a6-4457-9889-b63107b42c7f",
   "metadata": {},
   "source": [
    "### Multiple Model Building"
   ]
  },
  {
   "cell_type": "code",
   "execution_count": 11,
   "id": "7162b56b-b71a-4bf5-bf42-7a3b4b71ecdb",
   "metadata": {},
   "outputs": [],
   "source": [
    "windows = [i for i in range(5,11)] # 5,6,7,8,9,10"
   ]
  },
  {
   "cell_type": "code",
   "execution_count": 12,
   "id": "17bfb75d-41e4-4d45-b637-8c21a1a6795d",
   "metadata": {},
   "outputs": [],
   "source": [
    "min_counts = [i for i in range(2,5)] # 2,3,4"
   ]
  },
  {
   "cell_type": "code",
   "execution_count": 13,
   "id": "58bb26ec-d9bd-442d-914e-207af443fb45",
   "metadata": {},
   "outputs": [],
   "source": [
    "epochs = [i for i in range(5,16,5)] # 5,10,15"
   ]
  },
  {
   "cell_type": "code",
   "execution_count": 14,
   "id": "1cc5cc54-9e6c-4a4a-b962-60f5f7fce4dc",
   "metadata": {},
   "outputs": [],
   "source": [
    "def model_w_m_e(win, min_cnt, ep, text):\n",
    "    model = gensim.models.Word2Vec(\n",
    "        window=win,\n",
    "        min_count=min_cnt,\n",
    "        workers=os.cpu_count()\n",
    "    )\n",
    "    \n",
    "    model.build_vocab(text)\n",
    "    \n",
    "    model.train(text, total_examples=model.corpus_count, epochs=ep)\n",
    "    \n",
    "    model.save(f\"models/word2vec_{win}-window_{min_cnt}-min_{ep}-epochs.model\")\n",
    "    \n",
    "    return model"
   ]
  },
  {
   "cell_type": "code",
   "execution_count": 15,
   "id": "d9b71a71-fb65-4ae8-ae7b-a51d1ed0b17b",
   "metadata": {},
   "outputs": [],
   "source": [
    "model_matrix = [\n",
    "    [\n",
    "        [[],[],[]],\n",
    "        [[],[],[]],\n",
    "        [[],[],[]]\n",
    "    ],\n",
    "    [\n",
    "        [[],[],[]],\n",
    "        [[],[],[]],\n",
    "        [[],[],[]]\n",
    "    ],\n",
    "    [\n",
    "        [[],[],[]],\n",
    "        [[],[],[]],\n",
    "        [[],[],[]]\n",
    "    ],\n",
    "    [\n",
    "        [[],[],[]],\n",
    "        [[],[],[]],\n",
    "        [[],[],[]]\n",
    "    ],\n",
    "    [\n",
    "        [[],[],[]],\n",
    "        [[],[],[]],\n",
    "        [[],[],[]]\n",
    "    ],\n",
    "    [\n",
    "        [[],[],[]],\n",
    "        [[],[],[]],\n",
    "        [[],[],[]]\n",
    "    ]\n",
    "]"
   ]
  },
  {
   "cell_type": "code",
   "execution_count": 16,
   "id": "41d03d21-d9c6-4e58-8e5e-3462e792b923",
   "metadata": {},
   "outputs": [],
   "source": [
    "from tqdm import tqdm"
   ]
  },
  {
   "cell_type": "code",
   "execution_count": null,
   "id": "c7c5197f-58d5-4552-aa9c-7d2417520371",
   "metadata": {
    "scrolled": true,
    "tags": []
   },
   "outputs": [],
   "source": [
    "for w in tqdm(windows):\n",
    "    for m in tqdm(min_counts):\n",
    "        for e in tqdm(epochs):\n",
    "            print(f\"window size {w}, min count {m}, number epochs {e}\")\n",
    "            \n",
    "            model = model_w_m_e(w, m, e, preprocessed_comments)\n",
    "            \n",
    "            model_matrix[w-5][m-2][int((e/5)-1)] = model"
   ]
  },
  {
   "cell_type": "markdown",
   "id": "052f15b5-6811-45be-82ce-0caad0f9fbe9",
   "metadata": {},
   "source": [
    "Took (21:19-22:23) 1 hour and 4 minutes to build 56 Word2Vec models."
   ]
  },
  {
   "cell_type": "code",
   "execution_count": 65,
   "id": "a4f3343c-b520-4fe2-bbb9-f1891b31caba",
   "metadata": {
    "scrolled": true,
    "tags": []
   },
   "outputs": [
    {
     "name": "stdout",
     "output_type": "stream",
     "text": [
      "5:0,2:0,5:0\n",
      "5:0,2:0,10:1\n",
      "5:0,2:0,15:2\n",
      "5:0,3:1,5:0\n",
      "5:0,3:1,10:1\n",
      "5:0,3:1,15:2\n",
      "5:0,4:2,5:0\n",
      "5:0,4:2,10:1\n",
      "5:0,4:2,15:2\n",
      "6:1,2:0,5:0\n",
      "6:1,2:0,10:1\n",
      "6:1,2:0,15:2\n",
      "6:1,3:1,5:0\n",
      "6:1,3:1,10:1\n",
      "6:1,3:1,15:2\n",
      "6:1,4:2,5:0\n",
      "6:1,4:2,10:1\n",
      "6:1,4:2,15:2\n",
      "7:2,2:0,5:0\n",
      "7:2,2:0,10:1\n",
      "7:2,2:0,15:2\n",
      "7:2,3:1,5:0\n",
      "7:2,3:1,10:1\n",
      "7:2,3:1,15:2\n",
      "7:2,4:2,5:0\n",
      "7:2,4:2,10:1\n",
      "7:2,4:2,15:2\n",
      "8:3,2:0,5:0\n",
      "8:3,2:0,10:1\n",
      "8:3,2:0,15:2\n",
      "8:3,3:1,5:0\n",
      "8:3,3:1,10:1\n",
      "8:3,3:1,15:2\n",
      "8:3,4:2,5:0\n",
      "8:3,4:2,10:1\n",
      "8:3,4:2,15:2\n",
      "9:4,2:0,5:0\n",
      "9:4,2:0,10:1\n",
      "9:4,2:0,15:2\n",
      "9:4,3:1,5:0\n",
      "9:4,3:1,10:1\n",
      "9:4,3:1,15:2\n",
      "9:4,4:2,5:0\n",
      "9:4,4:2,10:1\n",
      "9:4,4:2,15:2\n",
      "10:5,2:0,5:0\n",
      "10:5,2:0,10:1\n",
      "10:5,2:0,15:2\n",
      "10:5,3:1,5:0\n",
      "10:5,3:1,10:1\n",
      "10:5,3:1,15:2\n",
      "10:5,4:2,5:0\n",
      "10:5,4:2,10:1\n",
      "10:5,4:2,15:2\n"
     ]
    }
   ],
   "source": [
    "for w in windows:\n",
    "    for m in min_counts:\n",
    "        for e in epochs:\n",
    "            print(f\"{w}:{w-5},{m}:{m-2},{e}:{int((e/5)-1)}\")"
   ]
  },
  {
   "cell_type": "code",
   "execution_count": 25,
   "id": "79842510-4b1b-435a-ae66-f506f3c4cdc2",
   "metadata": {
    "tags": []
   },
   "outputs": [
    {
     "name": "stdout",
     "output_type": "stream",
     "text": [
      "5 2 5\n",
      "terrible X awesome 0.4267478\n",
      "great X good 0.8051123\n",
      "\n",
      "5 2 10\n",
      "terrible X awesome 0.43626985\n",
      "great X good 0.80476606\n",
      "\n",
      "5 2 15\n",
      "terrible X awesome 0.4138347\n",
      "great X good 0.8049265\n",
      "\n",
      "5 3 5\n",
      "terrible X awesome 0.4539343\n",
      "great X good 0.7885818\n",
      "\n",
      "5 3 10\n",
      "terrible X awesome 0.43241885\n",
      "great X good 0.7989371\n",
      "\n",
      "5 3 15\n",
      "terrible X awesome 0.42633072\n",
      "great X good 0.797704\n",
      "\n",
      "5 4 5\n",
      "terrible X awesome 0.44789803\n",
      "great X good 0.7923943\n",
      "\n",
      "5 4 10\n",
      "terrible X awesome 0.42802656\n",
      "great X good 0.7974495\n",
      "\n",
      "5 4 15\n",
      "terrible X awesome 0.43746105\n",
      "great X good 0.8010656\n",
      "\n",
      "6 2 5\n",
      "terrible X awesome 0.39737168\n",
      "great X good 0.78406596\n",
      "\n",
      "6 2 10\n",
      "terrible X awesome 0.3835576\n",
      "great X good 0.7824957\n",
      "\n",
      "6 2 15\n",
      "terrible X awesome 0.4106699\n",
      "great X good 0.79087937\n",
      "\n",
      "6 3 5\n",
      "terrible X awesome 0.4137922\n",
      "great X good 0.78509694\n",
      "\n",
      "6 3 10\n",
      "terrible X awesome 0.4147284\n",
      "great X good 0.7876151\n",
      "\n",
      "6 3 15\n",
      "terrible X awesome 0.4085468\n",
      "great X good 0.7840415\n",
      "\n",
      "6 4 5\n",
      "terrible X awesome 0.38923296\n",
      "great X good 0.7904431\n",
      "\n",
      "6 4 10\n",
      "terrible X awesome 0.42217928\n",
      "great X good 0.78273606\n",
      "\n",
      "6 4 15\n",
      "terrible X awesome 0.40556127\n",
      "great X good 0.7827179\n",
      "\n",
      "7 2 5\n",
      "terrible X awesome 0.38714105\n",
      "great X good 0.7724692\n",
      "\n",
      "7 2 10\n",
      "terrible X awesome 0.3840168\n",
      "great X good 0.77895087\n",
      "\n",
      "7 2 15\n",
      "terrible X awesome 0.38655058\n",
      "great X good 0.78211385\n",
      "\n",
      "7 3 5\n",
      "terrible X awesome 0.39838165\n",
      "great X good 0.77299225\n",
      "\n",
      "7 3 10\n",
      "terrible X awesome 0.3839144\n",
      "great X good 0.7866447\n",
      "\n",
      "7 3 15\n",
      "terrible X awesome 0.392393\n",
      "great X good 0.7802538\n",
      "\n",
      "7 4 5\n",
      "terrible X awesome 0.3845039\n",
      "great X good 0.78850293\n",
      "\n",
      "7 4 10\n",
      "terrible X awesome 0.3847642\n",
      "great X good 0.780327\n",
      "\n",
      "7 4 15\n",
      "terrible X awesome 0.39381063\n",
      "great X good 0.7815009\n",
      "\n",
      "8 2 5\n",
      "terrible X awesome 0.3740995\n",
      "great X good 0.77731156\n",
      "\n",
      "8 2 10\n",
      "terrible X awesome 0.3541175\n",
      "great X good 0.7751208\n",
      "\n",
      "8 2 15\n",
      "terrible X awesome 0.36365864\n",
      "great X good 0.775532\n",
      "\n",
      "8 3 5\n",
      "terrible X awesome 0.36670226\n",
      "great X good 0.7673188\n",
      "\n",
      "8 3 10\n",
      "terrible X awesome 0.36802825\n",
      "great X good 0.7678231\n",
      "\n",
      "8 3 15\n",
      "terrible X awesome 0.36166617\n",
      "great X good 0.76734865\n",
      "\n",
      "8 4 5\n",
      "terrible X awesome 0.35280624\n",
      "great X good 0.76835567\n",
      "\n",
      "8 4 10\n",
      "terrible X awesome 0.34083214\n",
      "great X good 0.7650426\n",
      "\n",
      "8 4 15\n",
      "terrible X awesome 0.36332977\n",
      "great X good 0.76826704\n",
      "\n",
      "9 2 5\n",
      "terrible X awesome 0.34230423\n",
      "great X good 0.77504975\n",
      "\n",
      "9 2 10\n",
      "terrible X awesome 0.34318817\n",
      "great X good 0.7702019\n",
      "\n",
      "9 2 15\n",
      "terrible X awesome 0.3508011\n",
      "great X good 0.77664137\n",
      "\n",
      "9 3 5\n",
      "terrible X awesome 0.32203898\n",
      "great X good 0.7687549\n",
      "\n",
      "9 3 10\n",
      "terrible X awesome 0.33493376\n",
      "great X good 0.76795995\n",
      "\n",
      "9 3 15\n",
      "terrible X awesome 0.3505394\n",
      "great X good 0.77213\n",
      "\n",
      "9 4 5\n",
      "terrible X awesome 0.32391983\n",
      "great X good 0.77425224\n",
      "\n",
      "9 4 10\n",
      "terrible X awesome 0.3736322\n",
      "great X good 0.76370394\n",
      "\n",
      "9 4 15\n",
      "terrible X awesome 0.347337\n",
      "great X good 0.76458734\n",
      "\n",
      "10 2 5\n",
      "terrible X awesome 0.3414755\n",
      "great X good 0.77948004\n",
      "\n",
      "10 2 10\n",
      "terrible X awesome 0.30814707\n",
      "great X good 0.767138\n",
      "\n",
      "10 2 15\n",
      "terrible X awesome 0.34255764\n",
      "great X good 0.76487094\n",
      "\n",
      "10 3 5\n",
      "terrible X awesome 0.32825834\n",
      "great X good 0.7550932\n",
      "\n",
      "10 3 10\n",
      "terrible X awesome 0.32270905\n",
      "great X good 0.76977396\n",
      "\n",
      "10 3 15\n",
      "terrible X awesome 0.33107674\n",
      "great X good 0.76867616\n",
      "\n",
      "10 4 5\n",
      "terrible X awesome 0.3223629\n",
      "great X good 0.74992716\n",
      "\n",
      "10 4 10\n",
      "terrible X awesome 0.32330108\n",
      "great X good 0.75980884\n",
      "\n",
      "10 4 15\n",
      "terrible X awesome 0.34900594\n",
      "great X good 0.7722612\n",
      "\n"
     ]
    }
   ],
   "source": [
    "for i in range(6):\n",
    "    for j in range(3):\n",
    "        for k in range(3):\n",
    "            t = model_matrix[i][j][k]\n",
    "            print(t.window, t.min_count, t.epochs)\n",
    "            print(\"terrible X awesome\", t.wv.similarity(w1=\"terrible\", w2=\"awesome\"))\n",
    "            print(\"great X good\", t.wv.similarity(w1=\"great\",w2=\"good\"))\n",
    "            print()\n",
    "                                  "
   ]
  },
  {
   "cell_type": "code",
   "execution_count": 27,
   "id": "2330fc30-8206-4698-aa45-8f423d5bd443",
   "metadata": {},
   "outputs": [],
   "source": [
    "t = model_matrix[0][0][0]"
   ]
  },
  {
   "cell_type": "code",
   "execution_count": 29,
   "id": "e1a7ea57-0a7a-4875-ba42-d8144d3e94b2",
   "metadata": {},
   "outputs": [
    {
     "data": {
      "text/plain": [
       "59978"
      ]
     },
     "execution_count": 29,
     "metadata": {},
     "output_type": "execute_result"
    }
   ],
   "source": [
    "X_t = list(t.wv.key_to_index)\n",
    "len(X_t)"
   ]
  }
 ],
 "metadata": {
  "kernelspec": {
   "display_name": "Python 3 (ipykernel)",
   "language": "python",
   "name": "python3"
  },
  "language_info": {
   "codemirror_mode": {
    "name": "ipython",
    "version": 3
   },
   "file_extension": ".py",
   "mimetype": "text/x-python",
   "name": "python",
   "nbconvert_exporter": "python",
   "pygments_lexer": "ipython3",
   "version": "3.9.12"
  }
 },
 "nbformat": 4,
 "nbformat_minor": 5
}
