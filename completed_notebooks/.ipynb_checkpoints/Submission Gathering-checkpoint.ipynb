{
 "cells": [
  {
   "cell_type": "markdown",
   "id": "dcfff1b2",
   "metadata": {},
   "source": [
    "# Setup"
   ]
  },
  {
   "cell_type": "code",
   "execution_count": 1,
   "id": "5184a497",
   "metadata": {},
   "outputs": [],
   "source": [
    "# !pip install gensim"
   ]
  },
  {
   "cell_type": "code",
   "execution_count": 2,
   "id": "9e88d674",
   "metadata": {},
   "outputs": [],
   "source": [
    "# !pip install python-Levenshtein"
   ]
  },
  {
   "cell_type": "code",
   "execution_count": 3,
   "id": "8dceaea4",
   "metadata": {},
   "outputs": [],
   "source": [
    "# !pip install praw"
   ]
  },
  {
   "cell_type": "code",
   "execution_count": 4,
   "id": "79e37ea1",
   "metadata": {},
   "outputs": [],
   "source": [
    "# !pip install psaw"
   ]
  },
  {
   "cell_type": "code",
   "execution_count": 5,
   "id": "f38766ff",
   "metadata": {},
   "outputs": [],
   "source": [
    "# !pip install p"
   ]
  },
  {
   "cell_type": "code",
   "execution_count": 6,
   "id": "8a660547",
   "metadata": {},
   "outputs": [],
   "source": [
    "import gensim\n",
    "import pandas as pd\n",
    "import praw\n",
    "from psaw import PushshiftAPI\n",
    "import datetime as dt\n",
    "import matplotlib.pyplot as plt"
   ]
  },
  {
   "cell_type": "markdown",
   "id": "51870b22",
   "metadata": {},
   "source": [
    "## API"
   ]
  },
  {
   "cell_type": "markdown",
   "id": "d2849c1a",
   "metadata": {},
   "source": [
    "PRAW Reddit API wrapper"
   ]
  },
  {
   "cell_type": "code",
   "execution_count": 8,
   "id": "ebe8e25f",
   "metadata": {},
   "outputs": [],
   "source": [
    "p_reddit = praw.Reddit(client_id='XXXXXXXX',\n",
    "                    client_secret='XXXXXXXX',\n",
    "                    username='XXXXXXXX',\n",
    "                    password='XXXXXXXX',\n",
    "                    user_agent='XXXXXXXX')\n",
    "\n",
    "p_subreddit = p_reddit.subreddit('leagueoflegends')"
   ]
  },
  {
   "cell_type": "markdown",
   "id": "44609bdb",
   "metadata": {},
   "source": [
    "PushshiftAPI"
   ]
  },
  {
   "cell_type": "code",
   "execution_count": 9,
   "id": "f9c83255",
   "metadata": {},
   "outputs": [],
   "source": [
    "ps_api = PushshiftAPI()\n",
    "\n",
    "subr = 'leagueoflegends'\n",
    "fi = ['id','created_utc', 'url', 'title']"
   ]
  },
  {
   "cell_type": "markdown",
   "id": "37d701ab",
   "metadata": {},
   "source": [
    "## Gathering Reddit posts, or \"submissions\""
   ]
  },
  {
   "cell_type": "code",
   "execution_count": 10,
   "id": "7b8a783d",
   "metadata": {},
   "outputs": [],
   "source": [
    "def get_submissions(subreddit, start_time, end_time, filters):\n",
    "    if(len(filters) == 0):\n",
    "        filters = ['id', 'author', 'created_utc','domain', 'url','title', 'num_comments']                 \n",
    "                   #We set by default some useful columns\n",
    "\n",
    "    posts = list(ps_api.search_submissions(\n",
    "        subreddit=subreddit,   #Subreddit we want to audit\n",
    "        after=start_time,      #Start date\n",
    "        before=end_time,       #End date\n",
    "        filter=filters        #Column names we want to retrieve\n",
    "    ))          ##Max number of posts\n",
    "\n",
    "    return pd.DataFrame(posts) "
   ]
  },
  {
   "cell_type": "markdown",
   "id": "edc33c3e",
   "metadata": {},
   "source": [
    "Gathering submissions by period "
   ]
  },
  {
   "cell_type": "code",
   "execution_count": null,
   "id": "59ef27cb",
   "metadata": {},
   "outputs": [],
   "source": [
    "st = '2021-06-01'\n",
    "en = '2021-06-15'\n",
    "\n",
    "june_1_2_submissions = get_submissions(subr, st, en, fi)\n",
    "\n",
    "st = '2021-06-16'\n",
    "en = '2021-06-30'\n",
    "\n",
    "june_2_2_submissions = get_submissions(subr, st, en, fi)\n",
    "\n",
    "st = '2021-07-01'\n",
    "en = '2021-07-15'\n",
    "\n",
    "july_1_2_submissions = get_submissions(subr, st, en, fi)\n",
    "\n",
    "st = '2021-07-16'\n",
    "en = '2021-07-31'\n",
    "\n",
    "july_2_2_submissions = get_submissions(subr, st, en, fi)\n",
    "\n",
    "st = '2021-08-01'\n",
    "en = '2021-08-15'\n",
    "\n",
    "aug_1_2_submissions = get_submissions(subr, st, en, fi)\n",
    "\n",
    "st = '2021-08-16'\n",
    "en = '2021-08-31'\n",
    "\n",
    "aug_2_2_submissions = get_submissions(subr, st, en, fi)\n"
   ]
  },
  {
   "cell_type": "markdown",
   "id": "05b1252e",
   "metadata": {},
   "source": [
    "Send to CSV"
   ]
  },
  {
   "cell_type": "code",
   "execution_count": null,
   "id": "a79a947c",
   "metadata": {},
   "outputs": [],
   "source": [
    "june_1_2_submissions.to_csv('june_1.csv')\n",
    "june_2_2_submissions.to_csv('june_2.csv')\n",
    "july_1_2_submissions.to_csv('july_1.csv')\n",
    "july_2_2_submissions.to_csv('july_2.csv')\n",
    "aug_1_2_submissions.to_csv('aug_1.csv')\n",
    "aug_2_2_submissions.to_csv('aug_2.csv')"
   ]
  },
  {
   "cell_type": "markdown",
   "id": "5363a0a9",
   "metadata": {},
   "source": [
    "## Cleaning functions"
   ]
  },
  {
   "cell_type": "code",
   "execution_count": 39,
   "id": "3698b725",
   "metadata": {},
   "outputs": [],
   "source": [
    "def valid_url(u):\n",
    "    \"\"\"\n",
    "    Tell us whether subreddit submissions url is valid\n",
    "    \n",
    "    This function takes a url from a row of the submissions dataframe\n",
    "    and tells us whether the domain is a valid type of submission for\n",
    "    later text processing. Namely, that the domain is either\n",
    "    'https://www.reddit.com/r/leagueoflegends' or \n",
    "    'https://v.redd.it'.\n",
    "    \n",
    "    Parameters\n",
    "    ----------\n",
    "    u : str\n",
    "        url from the subreddit submissions\n",
    "    \n",
    "    Returns\n",
    "    -------\n",
    "    bool\n",
    "        whether ``u`` is in valid domain\n",
    "    \n",
    "    Example\n",
    "    -------\n",
    "    >>> valid_url('https://www.reddit.com/r/leagueoflegends/s82nf81')\n",
    "    True\n",
    "    \"\"\"\n",
    "    return 'https://www.reddit.com/r/leagueoflegends' in u or 'https://v.redd.it' in u\n",
    "\n",
    "def get_valid_i(dframe):\n",
    "    \"\"\"\n",
    "    Obtains indices of submissions that have valid url domains\n",
    "    \n",
    "    Taking a dataframe whose entries are submissions pulled from the\n",
    "    pushshift reddit api, we obtain a list of indices of entries \n",
    "    whose url domains are valid. \n",
    "    \n",
    "    Parameters\n",
    "    ----------\n",
    "    dframe : Pandas DataFrame\n",
    "        Dataframe of leagueoflegends subreddit submissions and other\n",
    "        results obtained from pushshift\n",
    "    \n",
    "    Returns\n",
    "    -------\n",
    "    list\n",
    "        List of indices whose url domains are valid\n",
    "    \"\"\"\n",
    "    temp = list()\n",
    "    # print('type dframe:\\t', type(dframe))\n",
    "    \n",
    "    for i in range(dframe.shape[0]):\n",
    "        u = str(dframe.iloc[i]['url'])\n",
    "        if valid_url(u):\n",
    "            temp.append(i)\n",
    "    \n",
    "    return temp\n",
    "\n",
    "def clean_table(df):\n",
    "    \"\"\"\n",
    "    Take a dataframe of leagueoflegends subreddit submissions and \n",
    "    other results from pushshift and remove the results whose url \n",
    "    domains are not valid.\n",
    "    \n",
    "    Parameters\n",
    "    ----------\n",
    "    df : Pandas DataFrame\n",
    "        Dataframe of leagueoflegends subreddit submissions and other\n",
    "        results obtained from pushshift\n",
    "    \n",
    "    Returns\n",
    "    -------\n",
    "    Pandas DataFrame\n",
    "    \"\"\"\n",
    "    valid_i = get_valid_i(df)\n",
    "    \n",
    "    df = df.iloc[valid_i]\n",
    "    \n",
    "    return df\n"
   ]
  },
  {
   "cell_type": "code",
   "execution_count": 29,
   "id": "b5d51235",
   "metadata": {},
   "outputs": [
    {
     "name": "stderr",
     "output_type": "stream",
     "text": [
      "C:\\Users\\aKost\\anaconda3\\lib\\site-packages\\psaw\\PushshiftAPI.py:192: UserWarning: Got non 200 code 429\n",
      "  warnings.warn(\"Got non 200 code %s\" % response.status_code)\n",
      "C:\\Users\\aKost\\anaconda3\\lib\\site-packages\\psaw\\PushshiftAPI.py:180: UserWarning: Unable to connect to pushshift.io. Retrying after backoff.\n",
      "  warnings.warn(\"Unable to connect to pushshift.io. Retrying after backoff.\")\n"
     ]
    }
   ],
   "source": [
    "st = '2021-09-01'\n",
    "en = '2021-09-30'\n",
    "\n",
    "sept_submissions = get_submissions(subr, st, en, fi)"
   ]
  },
  {
   "cell_type": "code",
   "execution_count": 32,
   "id": "17c608c2",
   "metadata": {},
   "outputs": [
    {
     "name": "stderr",
     "output_type": "stream",
     "text": [
      "C:\\Users\\aKost\\anaconda3\\lib\\site-packages\\psaw\\PushshiftAPI.py:192: UserWarning: Got non 200 code 429\n",
      "  warnings.warn(\"Got non 200 code %s\" % response.status_code)\n",
      "C:\\Users\\aKost\\anaconda3\\lib\\site-packages\\psaw\\PushshiftAPI.py:180: UserWarning: Unable to connect to pushshift.io. Retrying after backoff.\n",
      "  warnings.warn(\"Unable to connect to pushshift.io. Retrying after backoff.\")\n"
     ]
    }
   ],
   "source": [
    "st = '2021-10-01'\n",
    "en = '2021-10-07'\n",
    "\n",
    "oct_1_4_submissions = get_submissions(subr, st, en, fi)"
   ]
  },
  {
   "cell_type": "code",
   "execution_count": 33,
   "id": "c689dbf1",
   "metadata": {},
   "outputs": [],
   "source": [
    "st = '2021-10-08'\n",
    "en = '2021-10-14'\n",
    "\n",
    "oct_2_4_submissions = get_submissions(subr, st, en, fi)"
   ]
  },
  {
   "cell_type": "code",
   "execution_count": 34,
   "id": "24c76d07",
   "metadata": {},
   "outputs": [],
   "source": [
    "st = '2021-10-15'\n",
    "en = '2021-10-21'\n",
    "\n",
    "oct_3_4_submissions = get_submissions(subr, st, en, fi)"
   ]
  },
  {
   "cell_type": "code",
   "execution_count": 35,
   "id": "c8428cf8",
   "metadata": {},
   "outputs": [],
   "source": [
    "st = '2021-10-22'\n",
    "en = '2021-10-31'\n",
    "\n",
    "oct_4_4_submissions = get_submissions(subr, st, en, fi)"
   ]
  },
  {
   "cell_type": "code",
   "execution_count": 36,
   "id": "18121590",
   "metadata": {},
   "outputs": [],
   "source": [
    "st = '2021-11-01'\n",
    "en = '2021-11-30'\n",
    "\n",
    "november_submissions = get_submissions(subr, st, en, fi)"
   ]
  },
  {
   "cell_type": "code",
   "execution_count": 40,
   "id": "12ceb09d",
   "metadata": {},
   "outputs": [],
   "source": [
    "#sept_submissions = pd.read_csv('sept.csv')\n",
    "#sept_submissions = clean_table(sept_submissions)\n",
    "#sept_submissions.to_csv('sept.csv')\n",
    "#\n",
    "#oct_1_4_submissions = pd.read_csv('oct_1_4.csv')\n",
    "#oct_1_4_submissions = clean_table(oct_1_4_submissions)\n",
    "#oct_1_4_submissions.to_csv('oct_1_4.csv')\n",
    "#\n",
    "#oct_2_4_submissions = pd.read_csv('oct_2_4.csv')\n",
    "#oct_2_4_submissions = clean_table(oct_2_4_submissions)\n",
    "#oct_2_4_submissions.to_csv('oct_2_4.csv')\n",
    "#\n",
    "#oct_3_4_submissions = pd.read_csv('oct_3_4.csv')\n",
    "#oct_3_4_submissions = clean_table(oct_3_4_submissions)\n",
    "#oct_3_4_submissions.to_csv('oct_3_4.csv')\n",
    "#\n",
    "#oct_4_4_submissions = pd.read_csv('oct_4_4.csv')\n",
    "#oct_4_4_submissions = clean_table(oct_4_4_submissions)\n",
    "#oct_4_4_submissions.to_csv('oct_4_4.csv')\n",
    "#\n",
    "#november_submissions = pd.read_csv('november.csv')\n",
    "#november_submissions = clean_table(november_submissions)\n",
    "#november_submissions.to_csv('november.csv')"
   ]
  },
  {
   "cell_type": "code",
   "execution_count": 41,
   "id": "e8e13652",
   "metadata": {},
   "outputs": [
    {
     "name": "stderr",
     "output_type": "stream",
     "text": [
      "C:\\Users\\aKost\\anaconda3\\lib\\site-packages\\psaw\\PushshiftAPI.py:192: UserWarning: Got non 200 code 429\n",
      "  warnings.warn(\"Got non 200 code %s\" % response.status_code)\n",
      "C:\\Users\\aKost\\anaconda3\\lib\\site-packages\\psaw\\PushshiftAPI.py:180: UserWarning: Unable to connect to pushshift.io. Retrying after backoff.\n",
      "  warnings.warn(\"Unable to connect to pushshift.io. Retrying after backoff.\")\n"
     ]
    }
   ],
   "source": [
    "st = '2021-12-01'\n",
    "en = '2021-12-31'\n",
    "\n",
    "decemeber_submissions = get_submissions(subr, st, en, fi)\n",
    "\n",
    "decemeber_submissions = clean_table(decemeber_submissions)\n",
    "\n",
    "decemeber_submissions.to_csv('decemeber.csv')"
   ]
  },
  {
   "cell_type": "code",
   "execution_count": 42,
   "id": "d792df24",
   "metadata": {},
   "outputs": [],
   "source": [
    "st = '2022-01-01'\n",
    "en = '2022-01-31'\n",
    "\n",
    "january_submissions = get_submissions(subr, st, en, fi)\n",
    "\n",
    "january_submissions = clean_table(january_submissions)\n",
    "\n",
    "january_submissions.to_csv('january.csv')"
   ]
  },
  {
   "cell_type": "code",
   "execution_count": 43,
   "id": "18a5464e",
   "metadata": {},
   "outputs": [],
   "source": [
    "st = '2022-02-01'\n",
    "en = '2022-02-28'\n",
    "\n",
    "february_submissions = get_submissions(subr, st, en, fi)\n",
    "\n",
    "february_submissions = clean_table(february_submissions)\n",
    "\n",
    "february_submissions.to_csv('feb.csv')"
   ]
  },
  {
   "cell_type": "code",
   "execution_count": 44,
   "id": "d7f1c642",
   "metadata": {},
   "outputs": [],
   "source": [
    "st = '2022-03-01'\n",
    "en = '2022-03-31'\n",
    "\n",
    "march_submissions = get_submissions(subr, st, en, fi)\n",
    "\n",
    "march_submissions = clean_table(march_submissions)\n",
    "\n",
    "march_submissions.to_csv('march.csv')"
   ]
  },
  {
   "cell_type": "markdown",
   "id": "aa143132",
   "metadata": {},
   "source": [
    "# Creating a master table"
   ]
  },
  {
   "cell_type": "markdown",
   "id": "ddd80c33",
   "metadata": {},
   "source": [
    "Concatenation of all tables"
   ]
  },
  {
   "cell_type": "code",
   "execution_count": 48,
   "id": "25067ea4",
   "metadata": {},
   "outputs": [],
   "source": [
    "files = [\n",
    "    'june_2.csv',\n",
    "    'july_1.csv',\n",
    "    'july_2.csv',\n",
    "    'aug_1.csv',\n",
    "    'aug_2.csv',\n",
    "    'sept.csv',\n",
    "    'oct_1_4.csv',\n",
    "    'oct_2_4.csv',\n",
    "    'oct_3_4.csv',\n",
    "    'oct_4_4.csv',\n",
    "    'november.csv',\n",
    "    'decemeber.csv',\n",
    "    'january.csv',\n",
    "    'feb.csv',\n",
    "    'march.csv'\n",
    "]"
   ]
  },
  {
   "cell_type": "code",
   "execution_count": 54,
   "id": "11a268d2",
   "metadata": {},
   "outputs": [],
   "source": [
    "mega_table = pd.read_csv('june_1.csv')\n",
    "\n",
    "for f in files:\n",
    "    temp = pd.read_csv(f)\n",
    "    mega_table = pd.concat([mega_table, temp], axis=0)"
   ]
  },
  {
   "cell_type": "code",
   "execution_count": 55,
   "id": "8f8cba91",
   "metadata": {
    "scrolled": true
   },
   "outputs": [
    {
     "data": {
      "text/html": [
       "<div>\n",
       "<style scoped>\n",
       "    .dataframe tbody tr th:only-of-type {\n",
       "        vertical-align: middle;\n",
       "    }\n",
       "\n",
       "    .dataframe tbody tr th {\n",
       "        vertical-align: top;\n",
       "    }\n",
       "\n",
       "    .dataframe thead th {\n",
       "        text-align: right;\n",
       "    }\n",
       "</style>\n",
       "<table border=\"1\" class=\"dataframe\">\n",
       "  <thead>\n",
       "    <tr style=\"text-align: right;\">\n",
       "      <th></th>\n",
       "      <th>Unnamed: 0</th>\n",
       "      <th>Unnamed: 0.1</th>\n",
       "      <th>created_utc</th>\n",
       "      <th>id</th>\n",
       "      <th>title</th>\n",
       "      <th>url</th>\n",
       "      <th>created</th>\n",
       "      <th>d_</th>\n",
       "    </tr>\n",
       "  </thead>\n",
       "  <tbody>\n",
       "    <tr>\n",
       "      <th>0</th>\n",
       "      <td>0</td>\n",
       "      <td>0.0</td>\n",
       "      <td>1623715013</td>\n",
       "      <td>o00m44</td>\n",
       "      <td>I dont cs when im fed</td>\n",
       "      <td>https://www.reddit.com/r/leagueoflegends/comme...</td>\n",
       "      <td>1.623740e+09</td>\n",
       "      <td>{'created_utc': 1623715013, 'id': 'o00m44', 't...</td>\n",
       "    </tr>\n",
       "    <tr>\n",
       "      <th>1</th>\n",
       "      <td>1</td>\n",
       "      <td>1.0</td>\n",
       "      <td>1623714840</td>\n",
       "      <td>o00k4w</td>\n",
       "      <td>Totally planned prediction 2021 outplay that i...</td>\n",
       "      <td>https://v.redd.it/iqthzskakb571</td>\n",
       "      <td>1.623740e+09</td>\n",
       "      <td>{'created_utc': 1623714840, 'id': 'o00k4w', 't...</td>\n",
       "    </tr>\n",
       "    <tr>\n",
       "      <th>2</th>\n",
       "      <td>2</td>\n",
       "      <td>2.0</td>\n",
       "      <td>1623714789</td>\n",
       "      <td>o00jk8</td>\n",
       "      <td>UCAM Esports vs MAD Lions Madrid - LEAGUE OF L...</td>\n",
       "      <td>https://youtube.com/watch?v=wfHM4nX2z-A&amp;amp;fe...</td>\n",
       "      <td>1.623740e+09</td>\n",
       "      <td>{'created_utc': 1623714789, 'id': 'o00jk8', 't...</td>\n",
       "    </tr>\n",
       "    <tr>\n",
       "      <th>3</th>\n",
       "      <td>3</td>\n",
       "      <td>3.0</td>\n",
       "      <td>1623714743</td>\n",
       "      <td>o00j2e</td>\n",
       "      <td>One hella lucky play on my le blanc</td>\n",
       "      <td>https://v.redd.it/c9puqrqyjb571</td>\n",
       "      <td>1.623740e+09</td>\n",
       "      <td>{'created_utc': 1623714743, 'id': 'o00j2e', 't...</td>\n",
       "    </tr>\n",
       "    <tr>\n",
       "      <th>4</th>\n",
       "      <td>4</td>\n",
       "      <td>4.0</td>\n",
       "      <td>1623714562</td>\n",
       "      <td>o00gyo</td>\n",
       "      <td>A digital painting of Wolf!!</td>\n",
       "      <td>https://i.redd.it/73ln16dhjb571.jpg</td>\n",
       "      <td>1.623740e+09</td>\n",
       "      <td>{'created_utc': 1623714562, 'id': 'o00gyo', 't...</td>\n",
       "    </tr>\n",
       "    <tr>\n",
       "      <th>...</th>\n",
       "      <td>...</td>\n",
       "      <td>...</td>\n",
       "      <td>...</td>\n",
       "      <td>...</td>\n",
       "      <td>...</td>\n",
       "      <td>...</td>\n",
       "      <td>...</td>\n",
       "      <td>...</td>\n",
       "    </tr>\n",
       "    <tr>\n",
       "      <th>9549</th>\n",
       "      <td>13055</td>\n",
       "      <td>NaN</td>\n",
       "      <td>1646093044</td>\n",
       "      <td>t3txtq</td>\n",
       "      <td>The Double Steal</td>\n",
       "      <td>https://v.redd.it/f11af9f4ynk81</td>\n",
       "      <td>1.646118e+09</td>\n",
       "      <td>{'created_utc': 1646093044, 'id': 't3txtq', 't...</td>\n",
       "    </tr>\n",
       "    <tr>\n",
       "      <th>9550</th>\n",
       "      <td>13056</td>\n",
       "      <td>NaN</td>\n",
       "      <td>1646092994</td>\n",
       "      <td>t3tx4z</td>\n",
       "      <td>Frequent crashes on Windows 11.</td>\n",
       "      <td>https://www.reddit.com/r/leagueoflegends/comme...</td>\n",
       "      <td>1.646118e+09</td>\n",
       "      <td>{'created_utc': 1646092994, 'id': 't3tx4z', 't...</td>\n",
       "    </tr>\n",
       "    <tr>\n",
       "      <th>9551</th>\n",
       "      <td>13057</td>\n",
       "      <td>NaN</td>\n",
       "      <td>1646092983</td>\n",
       "      <td>t3twyu</td>\n",
       "      <td>Tarzaned leaving game after dying lvl 1, flame...</td>\n",
       "      <td>https://v.redd.it/tpem6nm0ynk81</td>\n",
       "      <td>1.646118e+09</td>\n",
       "      <td>{'created_utc': 1646092983, 'id': 't3twyu', 't...</td>\n",
       "    </tr>\n",
       "    <tr>\n",
       "      <th>9552</th>\n",
       "      <td>13058</td>\n",
       "      <td>NaN</td>\n",
       "      <td>1646092952</td>\n",
       "      <td>t3twhr</td>\n",
       "      <td>Do not criticize russian aggression or Vladimi...</td>\n",
       "      <td>https://www.reddit.com/r/leagueoflegends/comme...</td>\n",
       "      <td>1.646118e+09</td>\n",
       "      <td>{'created_utc': 1646092952, 'id': 't3twhr', 't...</td>\n",
       "    </tr>\n",
       "    <tr>\n",
       "      <th>9553</th>\n",
       "      <td>13059</td>\n",
       "      <td>NaN</td>\n",
       "      <td>1646092817</td>\n",
       "      <td>t3tuqh</td>\n",
       "      <td>Lunar Revel Pass</td>\n",
       "      <td>https://www.reddit.com/r/leagueoflegends/comme...</td>\n",
       "      <td>1.646118e+09</td>\n",
       "      <td>{'created_utc': 1646092817, 'id': 't3tuqh', 't...</td>\n",
       "    </tr>\n",
       "  </tbody>\n",
       "</table>\n",
       "<p>143567 rows × 8 columns</p>\n",
       "</div>"
      ],
      "text/plain": [
       "      Unnamed: 0  Unnamed: 0.1  created_utc      id  \\\n",
       "0              0           0.0   1623715013  o00m44   \n",
       "1              1           1.0   1623714840  o00k4w   \n",
       "2              2           2.0   1623714789  o00jk8   \n",
       "3              3           3.0   1623714743  o00j2e   \n",
       "4              4           4.0   1623714562  o00gyo   \n",
       "...          ...           ...          ...     ...   \n",
       "9549       13055           NaN   1646093044  t3txtq   \n",
       "9550       13056           NaN   1646092994  t3tx4z   \n",
       "9551       13057           NaN   1646092983  t3twyu   \n",
       "9552       13058           NaN   1646092952  t3twhr   \n",
       "9553       13059           NaN   1646092817  t3tuqh   \n",
       "\n",
       "                                                  title  \\\n",
       "0                                 I dont cs when im fed   \n",
       "1     Totally planned prediction 2021 outplay that i...   \n",
       "2     UCAM Esports vs MAD Lions Madrid - LEAGUE OF L...   \n",
       "3                   One hella lucky play on my le blanc   \n",
       "4                          A digital painting of Wolf!!   \n",
       "...                                                 ...   \n",
       "9549                                   The Double Steal   \n",
       "9550                    Frequent crashes on Windows 11.   \n",
       "9551  Tarzaned leaving game after dying lvl 1, flame...   \n",
       "9552  Do not criticize russian aggression or Vladimi...   \n",
       "9553                                   Lunar Revel Pass   \n",
       "\n",
       "                                                    url       created  \\\n",
       "0     https://www.reddit.com/r/leagueoflegends/comme...  1.623740e+09   \n",
       "1                       https://v.redd.it/iqthzskakb571  1.623740e+09   \n",
       "2     https://youtube.com/watch?v=wfHM4nX2z-A&amp;fe...  1.623740e+09   \n",
       "3                       https://v.redd.it/c9puqrqyjb571  1.623740e+09   \n",
       "4                   https://i.redd.it/73ln16dhjb571.jpg  1.623740e+09   \n",
       "...                                                 ...           ...   \n",
       "9549                    https://v.redd.it/f11af9f4ynk81  1.646118e+09   \n",
       "9550  https://www.reddit.com/r/leagueoflegends/comme...  1.646118e+09   \n",
       "9551                    https://v.redd.it/tpem6nm0ynk81  1.646118e+09   \n",
       "9552  https://www.reddit.com/r/leagueoflegends/comme...  1.646118e+09   \n",
       "9553  https://www.reddit.com/r/leagueoflegends/comme...  1.646118e+09   \n",
       "\n",
       "                                                     d_  \n",
       "0     {'created_utc': 1623715013, 'id': 'o00m44', 't...  \n",
       "1     {'created_utc': 1623714840, 'id': 'o00k4w', 't...  \n",
       "2     {'created_utc': 1623714789, 'id': 'o00jk8', 't...  \n",
       "3     {'created_utc': 1623714743, 'id': 'o00j2e', 't...  \n",
       "4     {'created_utc': 1623714562, 'id': 'o00gyo', 't...  \n",
       "...                                                 ...  \n",
       "9549  {'created_utc': 1646093044, 'id': 't3txtq', 't...  \n",
       "9550  {'created_utc': 1646092994, 'id': 't3tx4z', 't...  \n",
       "9551  {'created_utc': 1646092983, 'id': 't3twyu', 't...  \n",
       "9552  {'created_utc': 1646092952, 'id': 't3twhr', 't...  \n",
       "9553  {'created_utc': 1646092817, 'id': 't3tuqh', 't...  \n",
       "\n",
       "[143567 rows x 8 columns]"
      ]
     },
     "execution_count": 55,
     "metadata": {},
     "output_type": "execute_result"
    }
   ],
   "source": [
    "mega_table"
   ]
  },
  {
   "cell_type": "code",
   "execution_count": 60,
   "id": "08019fd4",
   "metadata": {},
   "outputs": [],
   "source": [
    "mega_table = mega_table.drop(columns=['Unnamed: 0','Unnamed: 0.1'])"
   ]
  },
  {
   "cell_type": "code",
   "execution_count": 61,
   "id": "1d63c3b5",
   "metadata": {
    "scrolled": true
   },
   "outputs": [
    {
     "data": {
      "text/html": [
       "<div>\n",
       "<style scoped>\n",
       "    .dataframe tbody tr th:only-of-type {\n",
       "        vertical-align: middle;\n",
       "    }\n",
       "\n",
       "    .dataframe tbody tr th {\n",
       "        vertical-align: top;\n",
       "    }\n",
       "\n",
       "    .dataframe thead th {\n",
       "        text-align: right;\n",
       "    }\n",
       "</style>\n",
       "<table border=\"1\" class=\"dataframe\">\n",
       "  <thead>\n",
       "    <tr style=\"text-align: right;\">\n",
       "      <th></th>\n",
       "      <th>created_utc</th>\n",
       "      <th>id</th>\n",
       "      <th>title</th>\n",
       "      <th>url</th>\n",
       "      <th>created</th>\n",
       "      <th>d_</th>\n",
       "    </tr>\n",
       "  </thead>\n",
       "  <tbody>\n",
       "    <tr>\n",
       "      <th>0</th>\n",
       "      <td>1623715013</td>\n",
       "      <td>o00m44</td>\n",
       "      <td>I dont cs when im fed</td>\n",
       "      <td>https://www.reddit.com/r/leagueoflegends/comme...</td>\n",
       "      <td>1.623740e+09</td>\n",
       "      <td>{'created_utc': 1623715013, 'id': 'o00m44', 't...</td>\n",
       "    </tr>\n",
       "    <tr>\n",
       "      <th>1</th>\n",
       "      <td>1623714840</td>\n",
       "      <td>o00k4w</td>\n",
       "      <td>Totally planned prediction 2021 outplay that i...</td>\n",
       "      <td>https://v.redd.it/iqthzskakb571</td>\n",
       "      <td>1.623740e+09</td>\n",
       "      <td>{'created_utc': 1623714840, 'id': 'o00k4w', 't...</td>\n",
       "    </tr>\n",
       "    <tr>\n",
       "      <th>2</th>\n",
       "      <td>1623714789</td>\n",
       "      <td>o00jk8</td>\n",
       "      <td>UCAM Esports vs MAD Lions Madrid - LEAGUE OF L...</td>\n",
       "      <td>https://youtube.com/watch?v=wfHM4nX2z-A&amp;amp;fe...</td>\n",
       "      <td>1.623740e+09</td>\n",
       "      <td>{'created_utc': 1623714789, 'id': 'o00jk8', 't...</td>\n",
       "    </tr>\n",
       "    <tr>\n",
       "      <th>3</th>\n",
       "      <td>1623714743</td>\n",
       "      <td>o00j2e</td>\n",
       "      <td>One hella lucky play on my le blanc</td>\n",
       "      <td>https://v.redd.it/c9puqrqyjb571</td>\n",
       "      <td>1.623740e+09</td>\n",
       "      <td>{'created_utc': 1623714743, 'id': 'o00j2e', 't...</td>\n",
       "    </tr>\n",
       "    <tr>\n",
       "      <th>4</th>\n",
       "      <td>1623714562</td>\n",
       "      <td>o00gyo</td>\n",
       "      <td>A digital painting of Wolf!!</td>\n",
       "      <td>https://i.redd.it/73ln16dhjb571.jpg</td>\n",
       "      <td>1.623740e+09</td>\n",
       "      <td>{'created_utc': 1623714562, 'id': 'o00gyo', 't...</td>\n",
       "    </tr>\n",
       "    <tr>\n",
       "      <th>...</th>\n",
       "      <td>...</td>\n",
       "      <td>...</td>\n",
       "      <td>...</td>\n",
       "      <td>...</td>\n",
       "      <td>...</td>\n",
       "      <td>...</td>\n",
       "    </tr>\n",
       "    <tr>\n",
       "      <th>9549</th>\n",
       "      <td>1646093044</td>\n",
       "      <td>t3txtq</td>\n",
       "      <td>The Double Steal</td>\n",
       "      <td>https://v.redd.it/f11af9f4ynk81</td>\n",
       "      <td>1.646118e+09</td>\n",
       "      <td>{'created_utc': 1646093044, 'id': 't3txtq', 't...</td>\n",
       "    </tr>\n",
       "    <tr>\n",
       "      <th>9550</th>\n",
       "      <td>1646092994</td>\n",
       "      <td>t3tx4z</td>\n",
       "      <td>Frequent crashes on Windows 11.</td>\n",
       "      <td>https://www.reddit.com/r/leagueoflegends/comme...</td>\n",
       "      <td>1.646118e+09</td>\n",
       "      <td>{'created_utc': 1646092994, 'id': 't3tx4z', 't...</td>\n",
       "    </tr>\n",
       "    <tr>\n",
       "      <th>9551</th>\n",
       "      <td>1646092983</td>\n",
       "      <td>t3twyu</td>\n",
       "      <td>Tarzaned leaving game after dying lvl 1, flame...</td>\n",
       "      <td>https://v.redd.it/tpem6nm0ynk81</td>\n",
       "      <td>1.646118e+09</td>\n",
       "      <td>{'created_utc': 1646092983, 'id': 't3twyu', 't...</td>\n",
       "    </tr>\n",
       "    <tr>\n",
       "      <th>9552</th>\n",
       "      <td>1646092952</td>\n",
       "      <td>t3twhr</td>\n",
       "      <td>Do not criticize russian aggression or Vladimi...</td>\n",
       "      <td>https://www.reddit.com/r/leagueoflegends/comme...</td>\n",
       "      <td>1.646118e+09</td>\n",
       "      <td>{'created_utc': 1646092952, 'id': 't3twhr', 't...</td>\n",
       "    </tr>\n",
       "    <tr>\n",
       "      <th>9553</th>\n",
       "      <td>1646092817</td>\n",
       "      <td>t3tuqh</td>\n",
       "      <td>Lunar Revel Pass</td>\n",
       "      <td>https://www.reddit.com/r/leagueoflegends/comme...</td>\n",
       "      <td>1.646118e+09</td>\n",
       "      <td>{'created_utc': 1646092817, 'id': 't3tuqh', 't...</td>\n",
       "    </tr>\n",
       "  </tbody>\n",
       "</table>\n",
       "<p>143567 rows × 6 columns</p>\n",
       "</div>"
      ],
      "text/plain": [
       "      created_utc      id                                              title  \\\n",
       "0      1623715013  o00m44                              I dont cs when im fed   \n",
       "1      1623714840  o00k4w  Totally planned prediction 2021 outplay that i...   \n",
       "2      1623714789  o00jk8  UCAM Esports vs MAD Lions Madrid - LEAGUE OF L...   \n",
       "3      1623714743  o00j2e                One hella lucky play on my le blanc   \n",
       "4      1623714562  o00gyo                       A digital painting of Wolf!!   \n",
       "...           ...     ...                                                ...   \n",
       "9549   1646093044  t3txtq                                   The Double Steal   \n",
       "9550   1646092994  t3tx4z                    Frequent crashes on Windows 11.   \n",
       "9551   1646092983  t3twyu  Tarzaned leaving game after dying lvl 1, flame...   \n",
       "9552   1646092952  t3twhr  Do not criticize russian aggression or Vladimi...   \n",
       "9553   1646092817  t3tuqh                                   Lunar Revel Pass   \n",
       "\n",
       "                                                    url       created  \\\n",
       "0     https://www.reddit.com/r/leagueoflegends/comme...  1.623740e+09   \n",
       "1                       https://v.redd.it/iqthzskakb571  1.623740e+09   \n",
       "2     https://youtube.com/watch?v=wfHM4nX2z-A&amp;fe...  1.623740e+09   \n",
       "3                       https://v.redd.it/c9puqrqyjb571  1.623740e+09   \n",
       "4                   https://i.redd.it/73ln16dhjb571.jpg  1.623740e+09   \n",
       "...                                                 ...           ...   \n",
       "9549                    https://v.redd.it/f11af9f4ynk81  1.646118e+09   \n",
       "9550  https://www.reddit.com/r/leagueoflegends/comme...  1.646118e+09   \n",
       "9551                    https://v.redd.it/tpem6nm0ynk81  1.646118e+09   \n",
       "9552  https://www.reddit.com/r/leagueoflegends/comme...  1.646118e+09   \n",
       "9553  https://www.reddit.com/r/leagueoflegends/comme...  1.646118e+09   \n",
       "\n",
       "                                                     d_  \n",
       "0     {'created_utc': 1623715013, 'id': 'o00m44', 't...  \n",
       "1     {'created_utc': 1623714840, 'id': 'o00k4w', 't...  \n",
       "2     {'created_utc': 1623714789, 'id': 'o00jk8', 't...  \n",
       "3     {'created_utc': 1623714743, 'id': 'o00j2e', 't...  \n",
       "4     {'created_utc': 1623714562, 'id': 'o00gyo', 't...  \n",
       "...                                                 ...  \n",
       "9549  {'created_utc': 1646093044, 'id': 't3txtq', 't...  \n",
       "9550  {'created_utc': 1646092994, 'id': 't3tx4z', 't...  \n",
       "9551  {'created_utc': 1646092983, 'id': 't3twyu', 't...  \n",
       "9552  {'created_utc': 1646092952, 'id': 't3twhr', 't...  \n",
       "9553  {'created_utc': 1646092817, 'id': 't3tuqh', 't...  \n",
       "\n",
       "[143567 rows x 6 columns]"
      ]
     },
     "execution_count": 61,
     "metadata": {},
     "output_type": "execute_result"
    }
   ],
   "source": [
    "mega_table"
   ]
  },
  {
   "cell_type": "markdown",
   "id": "449be81b",
   "metadata": {},
   "source": [
    "Save table to CSV and check shape"
   ]
  },
  {
   "cell_type": "code",
   "execution_count": 62,
   "id": "f6509bbf",
   "metadata": {},
   "outputs": [],
   "source": [
    "mega_table.to_csv('june_to_march_postings.csv')"
   ]
  },
  {
   "cell_type": "code",
   "execution_count": 63,
   "id": "71e26b0c",
   "metadata": {},
   "outputs": [
    {
     "data": {
      "text/plain": [
       "(143567, 6)"
      ]
     },
     "execution_count": 63,
     "metadata": {},
     "output_type": "execute_result"
    }
   ],
   "source": [
    "mega_table.shape"
   ]
  },
  {
   "cell_type": "markdown",
   "id": "7f4d708e",
   "metadata": {},
   "source": [
    "# Final Comment"
   ]
  },
  {
   "cell_type": "markdown",
   "id": "7ac99dd4",
   "metadata": {},
   "source": [
    "We have 143,567 Reddit posts from which to gather comments, these comments will be used to implement Word2Vec featurization to act in our binary classification model."
   ]
  }
 ],
 "metadata": {
  "kernelspec": {
   "display_name": "Python 3 (ipykernel)",
   "language": "python",
   "name": "python3"
  },
  "language_info": {
   "codemirror_mode": {
    "name": "ipython",
    "version": 3
   },
   "file_extension": ".py",
   "mimetype": "text/x-python",
   "name": "python",
   "nbconvert_exporter": "python",
   "pygments_lexer": "ipython3",
   "version": "3.9.12"
  }
 },
 "nbformat": 4,
 "nbformat_minor": 5
}
