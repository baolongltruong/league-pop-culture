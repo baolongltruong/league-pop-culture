{
 "cells": [
  {
   "cell_type": "markdown",
   "id": "1cde6c25",
   "metadata": {},
   "source": [
    "# Setup"
   ]
  },
  {
   "cell_type": "code",
   "execution_count": null,
   "id": "a9aefe00",
   "metadata": {},
   "outputs": [],
   "source": [
    "#!pip install gensim"
   ]
  },
  {
   "cell_type": "code",
   "execution_count": null,
   "id": "618f241d",
   "metadata": {},
   "outputs": [],
   "source": [
    "#!pip install python-Levenshtein"
   ]
  },
  {
   "cell_type": "code",
   "execution_count": null,
   "id": "a77d8101",
   "metadata": {},
   "outputs": [],
   "source": [
    "#!pip install praw"
   ]
  },
  {
   "cell_type": "code",
   "execution_count": null,
   "id": "9d013af3",
   "metadata": {},
   "outputs": [],
   "source": [
    "#!pip install p"
   ]
  },
  {
   "cell_type": "code",
   "execution_count": null,
   "id": "e6adb301",
   "metadata": {},
   "outputs": [],
   "source": [
    "#!pip install psaw"
   ]
  },
  {
   "cell_type": "markdown",
   "id": "c5bd3bd5",
   "metadata": {},
   "source": [
    "---"
   ]
  },
  {
   "cell_type": "markdown",
   "id": "f1fce631",
   "metadata": {},
   "source": [
    "### Imports"
   ]
  },
  {
   "cell_type": "code",
   "execution_count": 2,
   "id": "e243ad3f",
   "metadata": {},
   "outputs": [],
   "source": [
    "import gensim\n",
    "import pandas as pd\n",
    "import praw\n",
    "from psaw import PushshiftAPI\n",
    "import datetime as dt\n",
    "import matplotlib.pyplot as plt"
   ]
  },
  {
   "cell_type": "code",
   "execution_count": 3,
   "id": "c33e6c9a",
   "metadata": {},
   "outputs": [],
   "source": [
    "p_reddit = praw.Reddit(client_id='XXXXXXXX',\n",
    "                    client_secret='XXXXXXXX',\n",
    "                    username='XXXXXXXX',\n",
    "                    password='XXXXXXXX',\n",
    "                    user_agent='XXXXXXXX')\n",
    "\n",
    "p_subreddit = p_reddit.subreddit('leagueoflegends')"
   ]
  },
  {
   "cell_type": "code",
   "execution_count": null,
   "id": "64d27429",
   "metadata": {},
   "outputs": [],
   "source": [
    "#!dir"
   ]
  },
  {
   "cell_type": "code",
   "execution_count": 4,
   "id": "538dfac3",
   "metadata": {},
   "outputs": [],
   "source": [
    "master_table = pd.read_csv('june_to_march_postings.csv', index_col=[0])"
   ]
  },
  {
   "cell_type": "code",
   "execution_count": 5,
   "id": "ce79b980",
   "metadata": {},
   "outputs": [
    {
     "name": "stdout",
     "output_type": "stream",
     "text": [
      "created_utc\n",
      "id\n",
      "title\n",
      "url\n",
      "created\n",
      "d_\n",
      "datetime\n"
     ]
    }
   ],
   "source": [
    "for i in master_table.columns:\n",
    "    print(i)"
   ]
  },
  {
   "cell_type": "code",
   "execution_count": null,
   "id": "d64bbfe8",
   "metadata": {},
   "outputs": [],
   "source": [
    "master_table['created_utc'].iloc[:5]"
   ]
  },
  {
   "cell_type": "markdown",
   "id": "05989cff",
   "metadata": {},
   "source": [
    "### Minor cleanup"
   ]
  },
  {
   "cell_type": "code",
   "execution_count": null,
   "id": "d8009bb0",
   "metadata": {},
   "outputs": [],
   "source": [
    "master_table['datetime'] = pd.to_datetime(master_table['created_utc'], unit='s')"
   ]
  },
  {
   "cell_type": "code",
   "execution_count": null,
   "id": "bc6b473e",
   "metadata": {},
   "outputs": [],
   "source": [
    "master_table = master_table.drop(columns=['Unnamed: 0'])"
   ]
  },
  {
   "cell_type": "code",
   "execution_count": null,
   "id": "75caab93",
   "metadata": {},
   "outputs": [],
   "source": [
    "master_table.to_csv('june_to_march_postings.csv')"
   ]
  },
  {
   "cell_type": "markdown",
   "id": "fdd9914a",
   "metadata": {},
   "source": [
    "--- "
   ]
  },
  {
   "cell_type": "markdown",
   "id": "36cfd24e",
   "metadata": {},
   "source": [
    "### Data Exploring"
   ]
  },
  {
   "cell_type": "code",
   "execution_count": null,
   "id": "96386f4d",
   "metadata": {},
   "outputs": [],
   "source": [
    "import ast"
   ]
  },
  {
   "cell_type": "markdown",
   "id": "63a9f33f",
   "metadata": {},
   "source": [
    "The following is the dictionary components of d_ in the datatable"
   ]
  },
  {
   "cell_type": "code",
   "execution_count": null,
   "id": "e344415f",
   "metadata": {},
   "outputs": [],
   "source": [
    "for k,v in ast.literal_eval(master_table.iloc[0]['d_']).items():\n",
    "    print(\"%-15s, %s\" %(k, v))"
   ]
  },
  {
   "cell_type": "code",
   "execution_count": null,
   "id": "9959ef27",
   "metadata": {},
   "outputs": [],
   "source": [
    "master_table"
   ]
  },
  {
   "cell_type": "code",
   "execution_count": 6,
   "id": "a2baf4d1",
   "metadata": {},
   "outputs": [],
   "source": [
    "first_row = master_table.iloc[0]\n",
    "submission = p_reddit.submission(id=first_row['id'])"
   ]
  },
  {
   "cell_type": "code",
   "execution_count": 7,
   "id": "2e7ae9b8",
   "metadata": {},
   "outputs": [
    {
     "name": "stdout",
     "output_type": "stream",
     "text": [
      "h1si8vd\n",
      "h1sil8e\n",
      "h1sigkk\n",
      "h1sttyw\n",
      "h1sqn3p\n",
      "h1snuvb\n",
      "h1sqyvc\n",
      "h1srcys\n",
      "h1uktmn\n",
      "h1sr26v\n"
     ]
    }
   ],
   "source": [
    "# printing just c will give us the comment id for this submission\n",
    "for c in submission.comments:\n",
    "    print(c)"
   ]
  },
  {
   "cell_type": "code",
   "execution_count": 8,
   "id": "71c3d707",
   "metadata": {},
   "outputs": [
    {
     "name": "stdout",
     "output_type": "stream",
     "text": [
      "Roam by having the wave pushed to enemy turret . I only gank if bot or top is being pushed to our turrets. Make picks before objectives to win easier. You have to come back to your waves not just mid but it prevents turrets getting taken . Keep the lanes split\n",
      "The first step to roaming is having good wave control\n",
      "Try not to roam when you think you won't get anything out of it.\n",
      "\n",
      "When I play mid, the only times I try to roam is when I see a fight in river, or my side of the jungle. Or when I am 100% sure I can get a kill or 2 in another lane.\n",
      "\n",
      "Don't roam if your unsure about the results.\n",
      "\n",
      "But this also depends on the champion your playing. If your playing twisted fate or an assassin. One who's job is to roam and find picks. You should be taking every opprotunity you can.\n",
      "\n",
      "Also obviously shove the wave into their tower first. So that gets the minion kills and the enemy laner loses out on the gold.\n",
      "Roam less. farm more\n",
      "1 roam kill is one missed wave. One missed wave is a free assist for your opponent. The longer you are not on your lane the more chances to comeback you give your opponent. Especially if you have streak on yourself and then you accidentally die on a roam. That will definitely trow you far away back\n",
      "Perma roam can work in specific scenarios but always remember for every wave you miss, you lose both exp and gold(every wave is about 120 gold). Even if you get a kill off your roam, think about how many waves you lost for it. if your other laners are orangutans, don't bother roaming at all.\n",
      "\n",
      "Generally perma farm can actually win you a lot of games in low elo.\n",
      "I usually getting fed by CSing. I'm a toplaner and always getting 150 or more gold reward even though I'm just 0/0/0. That usually happens if the whole your team is ahead.\n",
      "become a kata main\n",
      "Well you said it yourself. Go farm, don’t perma roam, most of the times you’re just wasting time running around river doing nothing. They won’t run into you like co-op vs AI. \n",
      "\n",
      "Suppress your lane with your lead, deny their farm either by freezing or shoving and harassing. Play with jungler. Every second you’re not CSing those free gold are lost. Don’t lose them unless you’re sure you’re getting something better. \n",
      "\n",
      "If you get three or four early kills and keep up the CS/min you’re gonna just be really strong in mid game fights say around dragon that’ll allow you to naturally carry the game.\n",
      "so any solution to my problem\n",
      "\n",
      "Not sure if you are serious. You literally described what you do wrong and already mentionend the solution: cs\n"
     ]
    }
   ],
   "source": [
    "# printing c.body gets us the text from the comments\n",
    "for c in submission.comments:\n",
    "    print(c.body)"
   ]
  },
  {
   "cell_type": "markdown",
   "id": "70c786b1",
   "metadata": {},
   "source": [
    "### Understanding our Indices"
   ]
  },
  {
   "cell_type": "code",
   "execution_count": 9,
   "id": "d0a2af71",
   "metadata": {},
   "outputs": [],
   "source": [
    "shape_0 = master_table.shape[0]"
   ]
  },
  {
   "cell_type": "code",
   "execution_count": 10,
   "id": "d4a3317b",
   "metadata": {},
   "outputs": [],
   "source": [
    "import math\n",
    "interval = math.floor(shape_0/5)"
   ]
  },
  {
   "cell_type": "code",
   "execution_count": 11,
   "id": "18583fd3",
   "metadata": {},
   "outputs": [
    {
     "name": "stdout",
     "output_type": "stream",
     "text": [
      "0\n",
      "28713\n",
      "57426\n",
      "86139\n",
      "114852\n",
      "[0, 28713, 57426, 86139, 114852, 143567]\n"
     ]
    }
   ],
   "source": [
    "indices = list()\n",
    "i = 0\n",
    "for j in range(5):\n",
    "    print(i)\n",
    "    indices.append(i)\n",
    "    i += interval\n",
    "\n",
    "indices.append(shape_0)\n",
    "print(indices)"
   ]
  },
  {
   "cell_type": "code",
   "execution_count": 13,
   "id": "8760beab",
   "metadata": {},
   "outputs": [
    {
     "name": "stdout",
     "output_type": "stream",
     "text": [
      "o00m44\n",
      "h1si8vd Roam by having the wave pushed to enemy turret . I only gank if bot or top is being pushed to our turrets. Make picks before objectives to win easier. You have to come back to your waves not just mid but it prevents turrets getting taken . Keep the lanes split\n",
      "h1sil8e The first step to roaming is having good wave control\n",
      "h1sigkk Try not to roam when you think you won't get anything out of it.\n",
      "\n",
      "When I play mid, the only times I try to roam is when I see a fight in river, or my side of the jungle. Or when I am 100% sure I can get a kill or 2 in another lane.\n",
      "\n",
      "Don't roam if your unsure about the results.\n",
      "\n",
      "But this also depends on the champion your playing. If your playing twisted fate or an assassin. One who's job is to roam and find picks. You should be taking every opprotunity you can.\n",
      "\n",
      "Also obviously shove the wave into their tower first. So that gets the minion kills and the enemy laner loses out on the gold.\n",
      "h1sttyw Roam less. farm more\n",
      "h1sqn3p 1 roam kill is one missed wave. One missed wave is a free assist for your opponent. The longer you are not on your lane the more chances to comeback you give your opponent. Especially if you have streak on yourself and then you accidentally die on a roam. That will definitely trow you far away back\n",
      "h1snuvb Perma roam can work in specific scenarios but always remember for every wave you miss, you lose both exp and gold(every wave is about 120 gold). Even if you get a kill off your roam, think about how many waves you lost for it. if your other laners are orangutans, don't bother roaming at all.\n",
      "\n",
      "Generally perma farm can actually win you a lot of games in low elo.\n",
      "h1sqyvc I usually getting fed by CSing. I'm a toplaner and always getting 150 or more gold reward even though I'm just 0/0/0. That usually happens if the whole your team is ahead.\n",
      "h1srcys become a kata main\n",
      "h1uktmn Well you said it yourself. Go farm, don’t perma roam, most of the times you’re just wasting time running around river doing nothing. They won’t run into you like co-op vs AI. \n",
      "\n",
      "Suppress your lane with your lead, deny their farm either by freezing or shoving and harassing. Play with jungler. Every second you’re not CSing those free gold are lost. Don’t lose them unless you’re sure you’re getting something better. \n",
      "\n",
      "If you get three or four early kills and keep up the CS/min you’re gonna just be really strong in mid game fights say around dragon that’ll allow you to naturally carry the game.\n",
      "h1sr26v so any solution to my problem\n",
      "\n",
      "Not sure if you are serious. You literally described what you do wrong and already mentionend the solution: cs\n",
      "o00k4w\n",
      "o00jk8\n"
     ]
    }
   ],
   "source": [
    "# An example of how our code is going to be split/indexed\n",
    "# We'll recombine these collections later\n",
    "\n",
    "for i in range(3):\n",
    "    sub_id = master_table.iloc[i]['id']\n",
    "    \n",
    "    print(sub_id)\n",
    "    temp_submission = p_reddit.submission(id=sub_id)\n",
    "    \n",
    "    for comment in temp_submission.comments:\n",
    "        print(comment, comment.body)"
   ]
  },
  {
   "cell_type": "markdown",
   "id": "6b780f1d",
   "metadata": {},
   "source": [
    "# Comment Gathering"
   ]
  },
  {
   "cell_type": "markdown",
   "id": "d044c48a",
   "metadata": {},
   "source": [
    "**THIS COMMENT BLOCK IS STRICTLY FOR MY PROJECT PARTNERS TO RUN AND GATHER COMMENTS**\n",
    "\n",
    "---\n",
    "\n",
    "**READ THIS**: If you're just opening this notebook, you can run the code from here. **Run these next two cells before running your own respective cell** _(indicated below with headers of your names)_.\n",
    "\n",
    "**Additionally**, please fill in the ```praw.Reddit(...)``` where it says ```YOUR_CREDS_HERE``` with your reddit api information to avoid potential issues with ratelimiting (though when I tried to gather it all myself, I didn't seem to run into any ratelimiting issues). Just in case there is, expect the code to run between 4-8 hours. If not, then maybe 2 hours... or less. Thank you!"
   ]
  },
  {
   "cell_type": "code",
   "execution_count": 5,
   "id": "8cb99f8e",
   "metadata": {},
   "outputs": [],
   "source": [
    "import pandas as pd\n",
    "import praw\n",
    "import math\n",
    "from tqdm import tqdm\n",
    "\n",
    "\"\"\"p_reddit = praw.Reddit(client_id=YOUR_CREDS_HERE,\n",
    "                    client_secret=YOUR_CREDS_HERE,\n",
    "                    username=YOUR_CREDS_HERE,\n",
    "                    password=YOUR_CREDS_HERE,\n",
    "                    user_agent=YOUR_CREDS_HERE)\n",
    "\n",
    "p_subreddit = p_reddit.subreddit('leagueoflegends')\"\"\"\n",
    "\n",
    "master_table = pd.read_csv('june_to_march_postings.csv', index_col=[0])\n",
    "\n",
    "shape_0 = master_table.shape[0]\n",
    "interval = math.floor(shape_0/5)\n",
    "\n",
    "indices = list()\n",
    "i = 0\n",
    "for j in range(5):\n",
    "    indices.append(i)\n",
    "    i += interval\n",
    "indices.append(shape_0)"
   ]
  },
  {
   "cell_type": "code",
   "execution_count": 27,
   "id": "03c02e25",
   "metadata": {},
   "outputs": [],
   "source": [
    "def gather_comments(t, sbmssn, sid):\n",
    "    for comment in sbmssn.comments:\n",
    "        if type(comment) is praw.models.reddit.comment.Comment:\n",
    "            t['submission_id'].append(sid)\n",
    "            t['comment_id'].append(comment)\n",
    "            t['comment_text'].append(comment.body)"
   ]
  },
  {
   "cell_type": "markdown",
   "id": "43bc2c59",
   "metadata": {},
   "source": [
    "### Baolong 1"
   ]
  },
  {
   "cell_type": "code",
   "execution_count": null,
   "id": "b305bf7b",
   "metadata": {},
   "outputs": [],
   "source": [
    "b1_comments_table_dict = {\n",
    "    'submission_id' : list(),\n",
    "    'comment_id' : list(),\n",
    "    'comment_text' : list()\n",
    "}"
   ]
  },
  {
   "cell_type": "code",
   "execution_count": null,
   "id": "bd0da0be",
   "metadata": {},
   "outputs": [],
   "source": [
    "for i in tqdm(range(indices[0],indices[1])):\n",
    "    sub_id = master_table.iloc[i]['id']\n",
    "    \n",
    "    temp_submission = p_reddit.submission(id=sub_id)\n",
    "    \n",
    "    gather_comments(b1_comments_table_dict, \n",
    "                    temp_submission, \n",
    "                    sub_id)"
   ]
  },
  {
   "cell_type": "code",
   "execution_count": null,
   "id": "5a965544",
   "metadata": {},
   "outputs": [],
   "source": [
    "b1_comments_dataframe = pd.from_dict(b1_comments_table_dict)"
   ]
  },
  {
   "cell_type": "code",
   "execution_count": null,
   "id": "f3646823",
   "metadata": {},
   "outputs": [],
   "source": [
    "b1_comments_dataframe.to_csv('comments_dataframe_1.csv')"
   ]
  },
  {
   "cell_type": "markdown",
   "id": "9b8ca252",
   "metadata": {},
   "source": [
    "### Baolong 2"
   ]
  },
  {
   "cell_type": "code",
   "execution_count": 38,
   "id": "ea9ba2e7",
   "metadata": {},
   "outputs": [],
   "source": [
    "b2_comments_table_dict = {\n",
    "    'submission_id' : list(),\n",
    "    'comment_id' : list(),\n",
    "    'comment_text' : list()\n",
    "}"
   ]
  },
  {
   "cell_type": "code",
   "execution_count": 39,
   "id": "27811701",
   "metadata": {},
   "outputs": [
    {
     "name": "stderr",
     "output_type": "stream",
     "text": [
      "100%|██████████| 28713/28713 [7:57:26<00:00,  1.00it/s]   \n"
     ]
    }
   ],
   "source": [
    "for i in tqdm(range(indices[1],indices[2])):\n",
    "    sub_id = master_table.iloc[i]['id']\n",
    "    \n",
    "    temp_submission = p_reddit.submission(id=sub_id)\n",
    "    \n",
    "    gather_comments(b2_comments_table_dict, \n",
    "                    temp_submission, \n",
    "                    sub_id)"
   ]
  },
  {
   "cell_type": "code",
   "execution_count": 40,
   "id": "76eb66f6",
   "metadata": {},
   "outputs": [],
   "source": [
    "b2_comments_dataframe = pd.DataFrame.from_dict(b2_comments_table_dict)"
   ]
  },
  {
   "cell_type": "code",
   "execution_count": 41,
   "id": "5dc12e1a",
   "metadata": {},
   "outputs": [],
   "source": [
    "b2_comments_dataframe.to_csv('comments_dataframe_2.csv')"
   ]
  },
  {
   "cell_type": "markdown",
   "id": "4102f12e",
   "metadata": {},
   "source": [
    "### Mohammad"
   ]
  },
  {
   "cell_type": "code",
   "execution_count": null,
   "id": "0d2081e8",
   "metadata": {},
   "outputs": [],
   "source": [
    "m_comments_table_dict = {\n",
    "    'submission_id' : list(),\n",
    "    'comment_id' : list(),\n",
    "    'comment_text' : list()\n",
    "}"
   ]
  },
  {
   "cell_type": "code",
   "execution_count": null,
   "id": "d1c6b2b2",
   "metadata": {},
   "outputs": [],
   "source": [
    "for i in tqdm(range(indices[2],indices[3])):\n",
    "    sub_id = master_table.iloc[i]['id']\n",
    "    \n",
    "    temp_submission = p_reddit.submission(id=sub_id)\n",
    "    \n",
    "    gather_comments(m_comments_table_dict, \n",
    "                    temp_submission, \n",
    "                    sub_id)"
   ]
  },
  {
   "cell_type": "code",
   "execution_count": null,
   "id": "84cff29b",
   "metadata": {},
   "outputs": [],
   "source": [
    "m_comments_dataframe = pd.from_dict(m_comments_table_dict)"
   ]
  },
  {
   "cell_type": "code",
   "execution_count": null,
   "id": "67fc57e3",
   "metadata": {},
   "outputs": [],
   "source": [
    "m_comments_dataframe.to_csv('comments_dataframe_3.csv')"
   ]
  },
  {
   "cell_type": "markdown",
   "id": "85fa63dd",
   "metadata": {},
   "source": [
    "### Aleksa 1"
   ]
  },
  {
   "cell_type": "code",
   "execution_count": 28,
   "id": "baeec02d",
   "metadata": {},
   "outputs": [],
   "source": [
    "a1_comments_table_dict = {\n",
    "    'submission_id' : list(),\n",
    "    'comment_id' : list(),\n",
    "    'comment_text' : list()\n",
    "}"
   ]
  },
  {
   "cell_type": "code",
   "execution_count": 24,
   "id": "e2393a6c",
   "metadata": {},
   "outputs": [],
   "source": [
    "#t = master_table.iloc[370:400]"
   ]
  },
  {
   "cell_type": "code",
   "execution_count": 25,
   "id": "2944d9cb",
   "metadata": {},
   "outputs": [],
   "source": [
    "#x = 'hello'\n",
    "#print(type(x))"
   ]
  },
  {
   "cell_type": "code",
   "execution_count": 26,
   "id": "085e0d0d",
   "metadata": {},
   "outputs": [],
   "source": [
    "#for _id in t['id']:\n",
    "#    t_s = p_reddit.submission(id=_id)\n",
    "#    for c in t_s.comments:\n",
    "#        print(type(c) is praw.models.reddit.comment.Comment)"
   ]
  },
  {
   "cell_type": "code",
   "execution_count": 29,
   "id": "0edd3096",
   "metadata": {},
   "outputs": [
    {
     "name": "stderr",
     "output_type": "stream",
     "text": [
      "100%|██████████| 28713/28713 [7:55:55<00:00,  1.01it/s]  \n"
     ]
    }
   ],
   "source": [
    "for i in tqdm(range(indices[3],indices[4])):\n",
    "    sub_id = master_table.iloc[i]['id']\n",
    "    \n",
    "    temp_submission = p_reddit.submission(id=sub_id)\n",
    "    \n",
    "    gather_comments(a1_comments_table_dict, \n",
    "                    temp_submission, \n",
    "                    sub_id)"
   ]
  },
  {
   "cell_type": "code",
   "execution_count": 31,
   "id": "4fb75566",
   "metadata": {},
   "outputs": [],
   "source": [
    "a1_comments_dataframe = pd.DataFrame(a1_comments_table_dict)"
   ]
  },
  {
   "cell_type": "code",
   "execution_count": 32,
   "id": "065c4251",
   "metadata": {},
   "outputs": [
    {
     "data": {
      "text/html": [
       "<div>\n",
       "<style scoped>\n",
       "    .dataframe tbody tr th:only-of-type {\n",
       "        vertical-align: middle;\n",
       "    }\n",
       "\n",
       "    .dataframe tbody tr th {\n",
       "        vertical-align: top;\n",
       "    }\n",
       "\n",
       "    .dataframe thead th {\n",
       "        text-align: right;\n",
       "    }\n",
       "</style>\n",
       "<table border=\"1\" class=\"dataframe\">\n",
       "  <thead>\n",
       "    <tr style=\"text-align: right;\">\n",
       "      <th></th>\n",
       "      <th>submission_id</th>\n",
       "      <th>comment_id</th>\n",
       "      <th>comment_text</th>\n",
       "    </tr>\n",
       "  </thead>\n",
       "  <tbody>\n",
       "    <tr>\n",
       "      <th>0</th>\n",
       "      <td>qwart4</td>\n",
       "      <td>hl1ocor</td>\n",
       "      <td>This submission has been removed because [text...</td>\n",
       "    </tr>\n",
       "    <tr>\n",
       "      <th>1</th>\n",
       "      <td>qwar5c</td>\n",
       "      <td>hl1o8mx</td>\n",
       "      <td>This submission has been removed because [text...</td>\n",
       "    </tr>\n",
       "    <tr>\n",
       "      <th>2</th>\n",
       "      <td>qwaqso</td>\n",
       "      <td>hl1p6r4</td>\n",
       "      <td>The worst part is that the bounties don't go a...</td>\n",
       "    </tr>\n",
       "    <tr>\n",
       "      <th>3</th>\n",
       "      <td>qwaqso</td>\n",
       "      <td>hl3bo65</td>\n",
       "      <td>The reason it's not a single objective is beca...</td>\n",
       "    </tr>\n",
       "    <tr>\n",
       "      <th>4</th>\n",
       "      <td>qwaqso</td>\n",
       "      <td>hl4bm4k</td>\n",
       "      <td>Because then a 5v5 team fight would break out ...</td>\n",
       "    </tr>\n",
       "    <tr>\n",
       "      <th>...</th>\n",
       "      <td>...</td>\n",
       "      <td>...</td>\n",
       "      <td>...</td>\n",
       "    </tr>\n",
       "    <tr>\n",
       "      <th>165809</th>\n",
       "      <td>s5gxcg</td>\n",
       "      <td>hszbkp2</td>\n",
       "      <td>Leona is absurd</td>\n",
       "    </tr>\n",
       "    <tr>\n",
       "      <th>165810</th>\n",
       "      <td>s5gxcg</td>\n",
       "      <td>hszud12</td>\n",
       "      <td>Rek'sai</td>\n",
       "    </tr>\n",
       "    <tr>\n",
       "      <th>165811</th>\n",
       "      <td>s5gvxi</td>\n",
       "      <td>hsxkd1j</td>\n",
       "      <td>Ap twitch doesn’t liandries or demonic he goes...</td>\n",
       "    </tr>\n",
       "    <tr>\n",
       "      <th>165812</th>\n",
       "      <td>s5gvbx</td>\n",
       "      <td>hsx9imu</td>\n",
       "      <td>This submission has been removed because [text...</td>\n",
       "    </tr>\n",
       "    <tr>\n",
       "      <th>165813</th>\n",
       "      <td>s5gu40</td>\n",
       "      <td>hsx9a7p</td>\n",
       "      <td>This submission has been removed because [text...</td>\n",
       "    </tr>\n",
       "  </tbody>\n",
       "</table>\n",
       "<p>165814 rows × 3 columns</p>\n",
       "</div>"
      ],
      "text/plain": [
       "       submission_id comment_id  \\\n",
       "0             qwart4    hl1ocor   \n",
       "1             qwar5c    hl1o8mx   \n",
       "2             qwaqso    hl1p6r4   \n",
       "3             qwaqso    hl3bo65   \n",
       "4             qwaqso    hl4bm4k   \n",
       "...              ...        ...   \n",
       "165809        s5gxcg    hszbkp2   \n",
       "165810        s5gxcg    hszud12   \n",
       "165811        s5gvxi    hsxkd1j   \n",
       "165812        s5gvbx    hsx9imu   \n",
       "165813        s5gu40    hsx9a7p   \n",
       "\n",
       "                                             comment_text  \n",
       "0       This submission has been removed because [text...  \n",
       "1       This submission has been removed because [text...  \n",
       "2       The worst part is that the bounties don't go a...  \n",
       "3       The reason it's not a single objective is beca...  \n",
       "4       Because then a 5v5 team fight would break out ...  \n",
       "...                                                   ...  \n",
       "165809                                    Leona is absurd  \n",
       "165810                                            Rek'sai  \n",
       "165811  Ap twitch doesn’t liandries or demonic he goes...  \n",
       "165812  This submission has been removed because [text...  \n",
       "165813  This submission has been removed because [text...  \n",
       "\n",
       "[165814 rows x 3 columns]"
      ]
     },
     "execution_count": 32,
     "metadata": {},
     "output_type": "execute_result"
    }
   ],
   "source": [
    "a1_comments_dataframe"
   ]
  },
  {
   "cell_type": "code",
   "execution_count": 33,
   "id": "4113c290",
   "metadata": {},
   "outputs": [],
   "source": [
    "a1_comments_dataframe.to_csv('comments_dataframe_4.csv')"
   ]
  },
  {
   "cell_type": "markdown",
   "id": "a7a32b41",
   "metadata": {},
   "source": [
    "### Aleksa 2"
   ]
  },
  {
   "cell_type": "code",
   "execution_count": 34,
   "id": "ef60da28",
   "metadata": {},
   "outputs": [],
   "source": [
    "a2_comments_table_dict = {\n",
    "    'submission_id' : list(),\n",
    "    'comment_id' : list(),\n",
    "    'comment_text' : list()\n",
    "}"
   ]
  },
  {
   "cell_type": "code",
   "execution_count": 35,
   "id": "d21abfc6",
   "metadata": {},
   "outputs": [
    {
     "name": "stderr",
     "output_type": "stream",
     "text": [
      "100%|██████████| 28715/28715 [7:54:15<00:00,  1.01it/s]   \n"
     ]
    }
   ],
   "source": [
    "for i in tqdm(range(indices[4],indices[5])):\n",
    "    sub_id = master_table.iloc[i]['id']\n",
    "    \n",
    "    temp_submission = p_reddit.submission(id=sub_id)\n",
    "    \n",
    "    gather_comments(a2_comments_table_dict, \n",
    "                    temp_submission, \n",
    "                    sub_id)"
   ]
  },
  {
   "cell_type": "code",
   "execution_count": 36,
   "id": "0b7ca20f",
   "metadata": {},
   "outputs": [],
   "source": [
    "a2_comments_dataframe = pd.DataFrame.from_dict(a2_comments_table_dict)"
   ]
  },
  {
   "cell_type": "code",
   "execution_count": 37,
   "id": "6001f06e",
   "metadata": {},
   "outputs": [],
   "source": [
    "a2_comments_dataframe.to_csv('comments_dataframe_5.csv')"
   ]
  },
  {
   "cell_type": "markdown",
   "id": "0e3a8481",
   "metadata": {},
   "source": [
    "# Final Comment"
   ]
  },
  {
   "cell_type": "markdown",
   "id": "bf53267e",
   "metadata": {},
   "source": [
    "Each dataframe is about **30 MB**, and contains about **160,000 rows** *(or **comments**)* that will be used in the implementation of the **Word2Vec** model which will serve in our binary classification machine learning model. As of today, April 6, 2022, we're collecting the final dataframe and will move forward to finalizing the Word2Vec development in the coming days."
   ]
  }
 ],
 "metadata": {
  "kernelspec": {
   "display_name": "Python 3 (ipykernel)",
   "language": "python",
   "name": "python3"
  },
  "language_info": {
   "codemirror_mode": {
    "name": "ipython",
    "version": 3
   },
   "file_extension": ".py",
   "mimetype": "text/x-python",
   "name": "python",
   "nbconvert_exporter": "python",
   "pygments_lexer": "ipython3",
   "version": "3.9.12"
  }
 },
 "nbformat": 4,
 "nbformat_minor": 5
}
