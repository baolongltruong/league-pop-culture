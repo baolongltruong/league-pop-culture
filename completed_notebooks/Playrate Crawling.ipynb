{
 "cells": [
  {
   "cell_type": "markdown",
   "metadata": {},
   "source": [
    "# SETUP run this first"
   ]
  },
  {
   "cell_type": "code",
   "execution_count": 3,
   "metadata": {},
   "outputs": [],
   "source": [
    "import datetime\n",
    "import pandas as pd\n",
    "import crawl\n",
    "import numpy as np\n",
    "API_KEY = \"RGAPI-954c65ed-669b-4424-9004-ca09db66a425\" #put your api key here\n",
    "api = crawl.RiotAPI(API_KEY)"
   ]
  },
  {
   "cell_type": "markdown",
   "metadata": {},
   "source": [
    "For the code below, just run each block and we good to go"
   ]
  },
  {
   "cell_type": "markdown",
   "metadata": {},
   "source": [
    "## OCTOBER"
   ]
  },
  {
   "cell_type": "code",
   "execution_count": 5,
   "metadata": {},
   "outputs": [
    {
     "name": "stdout",
     "output_type": "stream",
     "text": [
      "[('10-01-2021', 1633071600), ('10-03-2021', 1633244400), ('10-05-2021', 1633417200), ('10-07-2021', 1633590000), ('10-09-2021', 1633762800), ('10-11-2021', 1633935600), ('10-13-2021', 1634108400), ('10-15-2021', 1634281200), ('10-17-2021', 1634454000), ('10-19-2021', 1634626800), ('10-21-2021', 1634799600), ('10-23-2021', 1634972400), ('10-25-2021', 1635145200), ('10-27-2021', 1635318000), ('10-29-2021', 1635490800), ('10-31-2021', 1635663600)]\n"
     ]
    }
   ],
   "source": [
    "times = []\n",
    "for i in range(1,32,2):\n",
    "    times.append((f\"10-{i:02}-2021\", int(datetime.datetime(2021,10,i,0,0).timestamp())))\n",
    "print(times)    "
   ]
  },
  {
   "cell_type": "code",
   "execution_count": null,
   "metadata": {},
   "outputs": [],
   "source": [
    "df = pd.DataFrame(columns = ['Date', 'Champion', 'Play Rate'])\n",
    "for date, t in times:\n",
    "    print(date, \"crawl\")\n",
    "    x = api.crawl(t, 1000)\n",
    "    for champion in x:\n",
    "        if champion != 'count':\n",
    "            df = pd.DataFrame(np.array([[date, champion, x[champion] / x['count']]]), columns=['Date', 'Champion', 'Play Rate']).append(df, ignore_index=True)\n",
    "\n",
    "df.to_csv('October_playrates.csv')"
   ]
  },
  {
   "cell_type": "markdown",
   "metadata": {},
   "source": [
    "## SEPTEMBER"
   ]
  },
  {
   "cell_type": "code",
   "execution_count": 7,
   "metadata": {},
   "outputs": [
    {
     "name": "stdout",
     "output_type": "stream",
     "text": [
      "[('09-01-2021', 1630479600), ('09-03-2021', 1630652400), ('09-05-2021', 1630825200), ('09-07-2021', 1630998000), ('09-09-2021', 1631170800), ('09-11-2021', 1631343600), ('09-13-2021', 1631516400), ('09-15-2021', 1631689200), ('09-17-2021', 1631862000), ('09-19-2021', 1632034800), ('09-21-2021', 1632207600), ('09-23-2021', 1632380400), ('09-25-2021', 1632553200), ('09-27-2021', 1632726000), ('09-29-2021', 1632898800)]\n"
     ]
    }
   ],
   "source": [
    "times = []\n",
    "for i in range(1,30,2):\n",
    "    times.append((f\"09-{i:02}-2021\", int(datetime.datetime(2021,9,i,0,0).timestamp())))\n",
    "print(times)    "
   ]
  },
  {
   "cell_type": "code",
   "execution_count": null,
   "metadata": {},
   "outputs": [],
   "source": [
    "df = pd.DataFrame(columns = ['Date', 'Champion', 'Play Rate'])\n",
    "for date, t in times:\n",
    "    print(date, \"crawl\")\n",
    "    x = api.crawl(t, 1000)\n",
    "    for champion in x:\n",
    "        if champion != 'count':\n",
    "            df = pd.DataFrame(np.array([[date, champion, x[champion] / x['count']]]), columns=['Date', 'Champion', 'Play Rate']).append(df, ignore_index=True)\n",
    "\n",
    "df.to_csv('September_playrates.csv')"
   ]
  }
 ],
 "metadata": {
  "kernelspec": {
   "display_name": "Python 3",
   "language": "python",
   "name": "python3"
  },
  "language_info": {
   "codemirror_mode": {
    "name": "ipython",
    "version": 3
   },
   "file_extension": ".py",
   "mimetype": "text/x-python",
   "name": "python",
   "nbconvert_exporter": "python",
   "pygments_lexer": "ipython3",
   "version": "3.8.5"
  }
 },
 "nbformat": 4,
 "nbformat_minor": 4
}
